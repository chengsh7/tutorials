{
  "nbformat": 4,
  "nbformat_minor": 0,
  "metadata": {
    "kernelspec": {
      "display_name": "Python 3.6",
      "language": "python",
      "name": "python3_6"
    },
    "language_info": {
      "codemirror_mode": {
        "name": "ipython",
        "version": 3
      },
      "file_extension": ".py",
      "mimetype": "text/x-python",
      "name": "python",
      "nbconvert_exporter": "python",
      "pygments_lexer": "ipython3",
      "version": "3.6.8"
    },
    "colab": {
      "name": "3. vertex0_refined_uc3.ipynb",
      "provenance": [],
      "collapsed_sections": [],
      "toc_visible": true,
      "include_colab_link": true
    }
  },
  "cells": [
    {
      "cell_type": "markdown",
      "metadata": {
        "id": "view-in-github",
        "colab_type": "text"
      },
      "source": [
        "<a href=\"https://colab.research.google.com/github/chengsh7/tutorials/blob/master/sample.ipynb\" target=\"_parent\"><img src=\"https://colab.research.google.com/assets/colab-badge.svg\" alt=\"Open In Colab\"/></a>"
      ]
    },
    {
      "cell_type": "code",
      "metadata": {
        "id": "_lo3JEOC2PoS",
        "colab_type": "code",
        "colab": {}
      },
      "source": [
        "# This code is a prototype and not engineered for production use. \n",
        "# Error handling is incomplete or inappropriate for usage beyond \n",
        "# a development sample.\n",
        "\n",
        "# Please include the above at the top of each file\n",
        "\n",
        "# This is a Data Analytics Demo"
      ],
      "execution_count": null,
      "outputs": []
    },
    {
      "cell_type": "markdown",
      "metadata": {
        "id": "N2q-XbF42PoX",
        "colab_type": "text"
      },
      "source": [
        "# Media Prima: Vertex0 Refined: UseCase3 (NEW)"
      ]
    },
    {
      "cell_type": "code",
      "metadata": {
        "id": "AcSND0972Pob",
        "colab_type": "code",
        "colab": {}
      },
      "source": [
        "# Import\n",
        "import os\n",
        "\n",
        "from google.cloud import bigquery\n",
        "from google.cloud.bigquery.schema import SchemaField\n",
        "\n",
        "\n",
        "import pandas"
      ],
      "execution_count": 2,
      "outputs": []
    },
    {
      "cell_type": "code",
      "metadata": {
        "id": "DxB9foihz2si",
        "colab_type": "code",
        "colab": {
          "base_uri": "https://localhost:8080/",
          "height": 51
        },
        "outputId": "0f7a6870-9cdb-4d37-8c1e-9fcc0bddafa9"
      },
      "source": [
        "IS_DEBUG = True\n",
        "\n",
        "project_id = \"trainer-sh\"\n",
        "\n",
        "print(f\"IS_DEBUG: {IS_DEBUG}\")\n",
        "print(f\"Project: {project_id}\")"
      ],
      "execution_count": 9,
      "outputs": [
        {
          "output_type": "stream",
          "text": [
            "IS_DEBUG: True\n",
            "Project: trainer-sh\n"
          ],
          "name": "stdout"
        }
      ]
    },
    {
      "cell_type": "code",
      "metadata": {
        "id": "Xtya93de2Poe",
        "colab_type": "code",
        "colab": {
          "base_uri": "https://localhost:8080/",
          "height": 34
        },
        "outputId": "b623cdc2-d646-4e79-c893-bf18eeccf2ef"
      },
      "source": [
        "# Authentication\n",
        "\n",
        "if IS_DEBUG:\n",
        "  from google.colab import auth\n",
        "  auth.authenticate_user()\n",
        "  print('Authenticated')\n",
        "  \n",
        "  client = bigquery.Client(project=project_id)\n",
        "else:\n",
        "#   import inspect\n",
        "#   current_path = os.path.dirname(os.path.abspath(inspect.getfile(inspect.currentframe())))\n",
        "#   key_file_path = \"./keys/mp-vertex-f69c5b2855cf.json\"\n",
        "#   key_file_path = f\"{current_path}/{key_file_path}\"\n",
        "#   client = bigquery.Client.from_service_account_json(key_file_path)\n",
        "    client = bigquery.Client(project=project_id)"
      ],
      "execution_count": 4,
      "outputs": [
        {
          "output_type": "stream",
          "text": [
            "Authenticated\n"
          ],
          "name": "stdout"
        }
      ]
    },
    {
      "cell_type": "markdown",
      "metadata": {
        "id": "UCxraXii2PqU",
        "colab_type": "text"
      },
      "source": [
        "## Refined Zone\n",
        "\n",
        "Create tables based on model"
      ]
    },
    {
      "cell_type": "markdown",
      "metadata": {
        "id": "TiDWUdzuoLE8",
        "colab_type": "text"
      },
      "source": [
        "### Initialization"
      ]
    },
    {
      "cell_type": "code",
      "metadata": {
        "id": "9tNjMCSO2PrE",
        "colab_type": "code",
        "colab": {
          "base_uri": "https://localhost:8080/",
          "height": 34
        },
        "outputId": "e8d83e1a-dbc7-4af8-eadf-6688302e3b7b"
      },
      "source": [
        "dataset_id = \"cpb101_flight_data\"\n",
        "\n",
        "dataset = client.dataset(dataset_id, project_id)\n",
        "\n",
        "print(f\"REFINED Dataset: {dataset_id}\")"
      ],
      "execution_count": 5,
      "outputs": [
        {
          "output_type": "stream",
          "text": [
            "REFINED Dataset: aging\n"
          ],
          "name": "stdout"
        }
      ]
    },
    {
      "cell_type": "markdown",
      "metadata": {
        "colab_type": "text",
        "id": "UFh9gx4JtGc3"
      },
      "source": [
        "### debtor_aging_fms"
      ]
    },
    {
      "cell_type": "code",
      "metadata": {
        "colab_type": "code",
        "id": "1-qqJPAqtGdK",
        "colab": {
          "base_uri": "https://localhost:8080/",
          "height": 34
        },
        "outputId": "b6019e90-21b5-40c0-a0e6-5a11f2a7fccb"
      },
      "source": [
        "# destination table\n",
        "table_name = \"debtor_aging_fms\"\n",
        "print(f\"Destination Table Name: {dataset_id}.{table_name}\")"
      ],
      "execution_count": 6,
      "outputs": [
        {
          "output_type": "stream",
          "text": [
            "Destination Table Name: aging.debtor_aging_fms\n"
          ],
          "name": "stdout"
        }
      ]
    },
    {
      "cell_type": "code",
      "metadata": {
        "colab_type": "code",
        "id": "_rJY1IUqtGds",
        "colab": {
          "base_uri": "https://localhost:8080/",
          "height": 1000
        },
        "outputId": "88952312-7aa6-43c2-b64c-786508be2a2d"
      },
      "source": [
        "sql = f\"\"\"\n",
        "  WITH t1 AS (\n",
        "      SELECT\n",
        "        'NSTP' platform,\n",
        "        agesum.AGING_DATE aging_date,\n",
        "        EXTRACT(YEAR FROM agesum.AGING_DATE) AS aging_year,\n",
        "        FORMAT_DATE(\"%Y-%m\", agesum.AGING_DATE) AS aging_month,\n",
        "        FORMAT_DATE(\"%Y-Q%Q\", agesum.AGING_DATE) AS aging_quarter,  \n",
        "        agesum.INDUSTRY industry,\n",
        "        agesum.TERRITORY territory,\n",
        "        agesum.GROUPING `grouping`,\n",
        "        agesum.collector collector,    \n",
        "        agesum.cust_no customer_no,\n",
        "        cu.customer_name customer_name,    \n",
        "        agesum.amt_due bal_amount,\n",
        "        agesum.b0_amt b0 ,\n",
        "        agesum.b1_amt b1,\n",
        "        agesum.b2_amt b2,\n",
        "        agesum.b3_amt b3,\n",
        "        agesum.b4_amt b4,\n",
        "        agesum.b5_amt b5,\n",
        "        agesum.b6_amt b6,\n",
        "        agesum.cd_amt cash_deposit,\n",
        "        agesum.bg_amt bank_guarantee\n",
        "      FROM `mp-vertex.trusted_oraclefms.xxar_agehist_summary` agesum\n",
        "        INNER JOIN `mp-vertex.trusted_oraclefms.ar_customers` cu\n",
        "          ON agesum.CUST_NO = cu.customer_number),\n",
        "      t2 AS (\n",
        "        SELECT\n",
        "          ROW_NUMBER() OVER (PARTITION BY customer_no, aging_month ORDER BY aging_date DESC) AS ROW_ID, \n",
        "          platform,\n",
        "          aging_date,\n",
        "          aging_year,\n",
        "          aging_month,\n",
        "          aging_quarter,\n",
        "          industry,\n",
        "          territory,\n",
        "          `grouping`,\n",
        "          collector,    \n",
        "          customer_no,\n",
        "          customer_name,\n",
        "          bal_amount,\n",
        "          b0,\n",
        "          b1,\n",
        "          b2,\n",
        "          b3,\n",
        "          b4,\n",
        "          b5,\n",
        "          b6,\n",
        "          cash_deposit,\n",
        "          bank_guarantee\n",
        "        FROM t1\n",
        "      )\n",
        "      \n",
        "      SELECT * EXCEPT(ROW_ID) FROM t2\n",
        "        WHERE ROW_ID = 1\n",
        "        ORDER BY aging_date DESC, customer_no;\n",
        "    \"\"\"\n",
        "print(sql)"
      ],
      "execution_count": 7,
      "outputs": [
        {
          "output_type": "stream",
          "text": [
            "\n",
            "  WITH t1 AS (\n",
            "      SELECT\n",
            "        'NSTP' platform,\n",
            "        agesum.AGING_DATE aging_date,\n",
            "        EXTRACT(YEAR FROM agesum.AGING_DATE) AS aging_year,\n",
            "        FORMAT_DATE(\"%Y-%m\", agesum.AGING_DATE) AS aging_month,\n",
            "        FORMAT_DATE(\"%Y-Q%Q\", agesum.AGING_DATE) AS aging_quarter,  \n",
            "        agesum.INDUSTRY industry,\n",
            "        agesum.TERRITORY territory,\n",
            "        agesum.GROUPING `grouping`,\n",
            "        agesum.collector collector,    \n",
            "        agesum.cust_no customer_no,\n",
            "        cu.customer_name customer_name,    \n",
            "        agesum.amt_due bal_amount,\n",
            "        agesum.b0_amt b0 ,\n",
            "        agesum.b1_amt b1,\n",
            "        agesum.b2_amt b2,\n",
            "        agesum.b3_amt b3,\n",
            "        agesum.b4_amt b4,\n",
            "        agesum.b5_amt b5,\n",
            "        agesum.b6_amt b6,\n",
            "        agesum.cd_amt cash_deposit,\n",
            "        agesum.bg_amt bank_guarantee\n",
            "      FROM `mp-vertex.trusted_oraclefms.xxar_agehist_summary` agesum\n",
            "        INNER JOIN `mp-vertex.trusted_oraclefms.ar_customers` cu\n",
            "          ON agesum.CUST_NO = cu.customer_number),\n",
            "      t2 AS (\n",
            "        SELECT\n",
            "          ROW_NUMBER() OVER (PARTITION BY customer_no, aging_month ORDER BY aging_date DESC) AS ROW_ID, \n",
            "          platform,\n",
            "          aging_date,\n",
            "          aging_year,\n",
            "          aging_month,\n",
            "          aging_quarter,\n",
            "          industry,\n",
            "          territory,\n",
            "          `grouping`,\n",
            "          collector,    \n",
            "          customer_no,\n",
            "          customer_name,\n",
            "          bal_amount,\n",
            "          b0,\n",
            "          b1,\n",
            "          b2,\n",
            "          b3,\n",
            "          b4,\n",
            "          b5,\n",
            "          b6,\n",
            "          cash_deposit,\n",
            "          bank_guarantee\n",
            "        FROM t1\n",
            "      )\n",
            "      \n",
            "      SELECT * EXCEPT(ROW_ID) FROM t2\n",
            "        WHERE ROW_ID = 1\n",
            "        ORDER BY aging_date DESC, customer_no;\n",
            "    \n"
          ],
          "name": "stdout"
        }
      ]
    },
    {
      "cell_type": "code",
      "metadata": {
        "colab_type": "code",
        "id": "LW9HRgj9tGeA",
        "colab": {
          "base_uri": "https://localhost:8080/",
          "height": 70
        },
        "outputId": "765ad11c-24b0-4a49-cdb0-81db14d9fb9f"
      },
      "source": [
        "# destination Table\n",
        "destination_table = dataset.table(table_name)\n",
        "\n",
        "print(f\"Destination Table: {dataset.dataset_id}.{table_name}\")\n",
        "\n",
        "job_config = bigquery.QueryJobConfig()\n",
        "job_config.destination = destination_table\n",
        "job_config.write_disposition = bigquery.WriteDisposition.WRITE_TRUNCATE\n",
        "\n",
        "try:\n",
        "  # Start the query, passing in the extra configuration.\n",
        "  query_job = client.query(\n",
        "      sql,\n",
        "      job_config=job_config)  # API request - starts the query\n",
        "\n",
        "  query_job.result()  # Waits for the query to finish\n",
        "  assert query_job.state == \"DONE\"\n",
        "\n",
        "  print(\"Job finished\")\n",
        "\n",
        "  print(f'Query results loaded to table {dataset_id}.{table_name}')\n",
        "except Exception as e:\n",
        "  print(e)\n",
        "  raise ValueError(f\"Fail to load: {dataset_id}.{table_name}\")"
      ],
      "execution_count": null,
      "outputs": [
        {
          "output_type": "stream",
          "text": [
            "Destination Table: aging.debtor_aging_fms\n",
            "Job finished\n",
            "Query results loaded to table aging.debtor_aging_fms\n"
          ],
          "name": "stdout"
        }
      ]
    },
    {
      "cell_type": "code",
      "metadata": {
        "colab_type": "code",
        "id": "ERGXQW70tGeR",
        "colab": {
          "base_uri": "https://localhost:8080/",
          "height": 632
        },
        "outputId": "437c94b2-ec59-4c51-8e05-8ee6b7bbd79a"
      },
      "source": [
        "if IS_DEBUG:\n",
        "  sql = (\n",
        "      f\"\"\"\n",
        "        SELECT * FROM `{dataset_id}.{table_name}` \n",
        "        LIMIT 5\n",
        "      \"\"\")\n",
        "  print(sql)\n",
        "  df = client.query(sql).to_dataframe()\n",
        "  print(df)"
      ],
      "execution_count": 8,
      "outputs": [
        {
          "output_type": "stream",
          "text": [
            "\n",
            "        SELECT * FROM `aging.debtor_aging_fms` \n",
            "        LIMIT 5\n",
            "      \n"
          ],
          "name": "stdout"
        },
        {
          "output_type": "error",
          "ename": "Forbidden",
          "evalue": "ignored",
          "traceback": [
            "\u001b[0;31m---------------------------------------------------------------------------\u001b[0m",
            "\u001b[0;31mForbidden\u001b[0m                                 Traceback (most recent call last)",
            "\u001b[0;32m<ipython-input-8-cb61216f06ba>\u001b[0m in \u001b[0;36m<module>\u001b[0;34m()\u001b[0m\n\u001b[1;32m      6\u001b[0m       \"\"\")\n\u001b[1;32m      7\u001b[0m   \u001b[0mprint\u001b[0m\u001b[0;34m(\u001b[0m\u001b[0msql\u001b[0m\u001b[0;34m)\u001b[0m\u001b[0;34m\u001b[0m\u001b[0;34m\u001b[0m\u001b[0m\n\u001b[0;32m----> 8\u001b[0;31m   \u001b[0mdf\u001b[0m \u001b[0;34m=\u001b[0m \u001b[0mclient\u001b[0m\u001b[0;34m.\u001b[0m\u001b[0mquery\u001b[0m\u001b[0;34m(\u001b[0m\u001b[0msql\u001b[0m\u001b[0;34m)\u001b[0m\u001b[0;34m.\u001b[0m\u001b[0mto_dataframe\u001b[0m\u001b[0;34m(\u001b[0m\u001b[0;34m)\u001b[0m\u001b[0;34m\u001b[0m\u001b[0;34m\u001b[0m\u001b[0m\n\u001b[0m\u001b[1;32m      9\u001b[0m   \u001b[0mprint\u001b[0m\u001b[0;34m(\u001b[0m\u001b[0mdf\u001b[0m\u001b[0;34m)\u001b[0m\u001b[0;34m\u001b[0m\u001b[0;34m\u001b[0m\u001b[0m\n",
            "\u001b[0;32m/usr/local/lib/python3.6/dist-packages/google/cloud/bigquery/client.py\u001b[0m in \u001b[0;36mquery\u001b[0;34m(self, query, job_config, job_id, job_id_prefix, location, project, retry)\u001b[0m\n\u001b[1;32m   2073\u001b[0m         \u001b[0mjob_ref\u001b[0m \u001b[0;34m=\u001b[0m \u001b[0mjob\u001b[0m\u001b[0;34m.\u001b[0m\u001b[0m_JobReference\u001b[0m\u001b[0;34m(\u001b[0m\u001b[0mjob_id\u001b[0m\u001b[0;34m,\u001b[0m \u001b[0mproject\u001b[0m\u001b[0;34m=\u001b[0m\u001b[0mproject\u001b[0m\u001b[0;34m,\u001b[0m \u001b[0mlocation\u001b[0m\u001b[0;34m=\u001b[0m\u001b[0mlocation\u001b[0m\u001b[0;34m)\u001b[0m\u001b[0;34m\u001b[0m\u001b[0;34m\u001b[0m\u001b[0m\n\u001b[1;32m   2074\u001b[0m         \u001b[0mquery_job\u001b[0m \u001b[0;34m=\u001b[0m \u001b[0mjob\u001b[0m\u001b[0;34m.\u001b[0m\u001b[0mQueryJob\u001b[0m\u001b[0;34m(\u001b[0m\u001b[0mjob_ref\u001b[0m\u001b[0;34m,\u001b[0m \u001b[0mquery\u001b[0m\u001b[0;34m,\u001b[0m \u001b[0mclient\u001b[0m\u001b[0;34m=\u001b[0m\u001b[0mself\u001b[0m\u001b[0;34m,\u001b[0m \u001b[0mjob_config\u001b[0m\u001b[0;34m=\u001b[0m\u001b[0mjob_config\u001b[0m\u001b[0;34m)\u001b[0m\u001b[0;34m\u001b[0m\u001b[0;34m\u001b[0m\u001b[0m\n\u001b[0;32m-> 2075\u001b[0;31m         \u001b[0mquery_job\u001b[0m\u001b[0;34m.\u001b[0m\u001b[0m_begin\u001b[0m\u001b[0;34m(\u001b[0m\u001b[0mretry\u001b[0m\u001b[0;34m=\u001b[0m\u001b[0mretry\u001b[0m\u001b[0;34m)\u001b[0m\u001b[0;34m\u001b[0m\u001b[0;34m\u001b[0m\u001b[0m\n\u001b[0m\u001b[1;32m   2076\u001b[0m \u001b[0;34m\u001b[0m\u001b[0m\n\u001b[1;32m   2077\u001b[0m         \u001b[0;32mreturn\u001b[0m \u001b[0mquery_job\u001b[0m\u001b[0;34m\u001b[0m\u001b[0;34m\u001b[0m\u001b[0m\n",
            "\u001b[0;32m/usr/local/lib/python3.6/dist-packages/google/cloud/bigquery/job.py\u001b[0m in \u001b[0;36m_begin\u001b[0;34m(self, client, retry)\u001b[0m\n\u001b[1;32m   2935\u001b[0m \u001b[0;34m\u001b[0m\u001b[0m\n\u001b[1;32m   2936\u001b[0m         \u001b[0;32mtry\u001b[0m\u001b[0;34m:\u001b[0m\u001b[0;34m\u001b[0m\u001b[0;34m\u001b[0m\u001b[0m\n\u001b[0;32m-> 2937\u001b[0;31m             \u001b[0msuper\u001b[0m\u001b[0;34m(\u001b[0m\u001b[0mQueryJob\u001b[0m\u001b[0;34m,\u001b[0m \u001b[0mself\u001b[0m\u001b[0;34m)\u001b[0m\u001b[0;34m.\u001b[0m\u001b[0m_begin\u001b[0m\u001b[0;34m(\u001b[0m\u001b[0mclient\u001b[0m\u001b[0;34m=\u001b[0m\u001b[0mclient\u001b[0m\u001b[0;34m,\u001b[0m \u001b[0mretry\u001b[0m\u001b[0;34m=\u001b[0m\u001b[0mretry\u001b[0m\u001b[0;34m)\u001b[0m\u001b[0;34m\u001b[0m\u001b[0;34m\u001b[0m\u001b[0m\n\u001b[0m\u001b[1;32m   2938\u001b[0m         \u001b[0;32mexcept\u001b[0m \u001b[0mexceptions\u001b[0m\u001b[0;34m.\u001b[0m\u001b[0mGoogleCloudError\u001b[0m \u001b[0;32mas\u001b[0m \u001b[0mexc\u001b[0m\u001b[0;34m:\u001b[0m\u001b[0;34m\u001b[0m\u001b[0;34m\u001b[0m\u001b[0m\n\u001b[1;32m   2939\u001b[0m             \u001b[0mexc\u001b[0m\u001b[0;34m.\u001b[0m\u001b[0mmessage\u001b[0m \u001b[0;34m+=\u001b[0m \u001b[0mself\u001b[0m\u001b[0;34m.\u001b[0m\u001b[0m_format_for_exception\u001b[0m\u001b[0;34m(\u001b[0m\u001b[0mself\u001b[0m\u001b[0;34m.\u001b[0m\u001b[0mquery\u001b[0m\u001b[0;34m,\u001b[0m \u001b[0mself\u001b[0m\u001b[0;34m.\u001b[0m\u001b[0mjob_id\u001b[0m\u001b[0;34m)\u001b[0m\u001b[0;34m\u001b[0m\u001b[0;34m\u001b[0m\u001b[0m\n",
            "\u001b[0;32m/usr/local/lib/python3.6/dist-packages/google/cloud/bigquery/job.py\u001b[0m in \u001b[0;36m_begin\u001b[0;34m(self, client, retry)\u001b[0m\n\u001b[1;32m    616\u001b[0m         \u001b[0;31m# job has an ID.\u001b[0m\u001b[0;34m\u001b[0m\u001b[0;34m\u001b[0m\u001b[0;34m\u001b[0m\u001b[0m\n\u001b[1;32m    617\u001b[0m         api_response = client._call_api(\n\u001b[0;32m--> 618\u001b[0;31m             \u001b[0mretry\u001b[0m\u001b[0;34m,\u001b[0m \u001b[0mmethod\u001b[0m\u001b[0;34m=\u001b[0m\u001b[0;34m\"POST\"\u001b[0m\u001b[0;34m,\u001b[0m \u001b[0mpath\u001b[0m\u001b[0;34m=\u001b[0m\u001b[0mpath\u001b[0m\u001b[0;34m,\u001b[0m \u001b[0mdata\u001b[0m\u001b[0;34m=\u001b[0m\u001b[0mself\u001b[0m\u001b[0;34m.\u001b[0m\u001b[0mto_api_repr\u001b[0m\u001b[0;34m(\u001b[0m\u001b[0;34m)\u001b[0m\u001b[0;34m\u001b[0m\u001b[0;34m\u001b[0m\u001b[0m\n\u001b[0m\u001b[1;32m    619\u001b[0m         )\n\u001b[1;32m    620\u001b[0m         \u001b[0mself\u001b[0m\u001b[0;34m.\u001b[0m\u001b[0m_set_properties\u001b[0m\u001b[0;34m(\u001b[0m\u001b[0mapi_response\u001b[0m\u001b[0;34m)\u001b[0m\u001b[0;34m\u001b[0m\u001b[0;34m\u001b[0m\u001b[0m\n",
            "\u001b[0;32m/usr/local/lib/python3.6/dist-packages/google/cloud/bigquery/client.py\u001b[0m in \u001b[0;36m_call_api\u001b[0;34m(self, retry, **kwargs)\u001b[0m\n\u001b[1;32m    474\u001b[0m         \u001b[0;32mif\u001b[0m \u001b[0mretry\u001b[0m\u001b[0;34m:\u001b[0m\u001b[0;34m\u001b[0m\u001b[0;34m\u001b[0m\u001b[0m\n\u001b[1;32m    475\u001b[0m             \u001b[0mcall\u001b[0m \u001b[0;34m=\u001b[0m \u001b[0mretry\u001b[0m\u001b[0;34m(\u001b[0m\u001b[0mcall\u001b[0m\u001b[0;34m)\u001b[0m\u001b[0;34m\u001b[0m\u001b[0;34m\u001b[0m\u001b[0m\n\u001b[0;32m--> 476\u001b[0;31m         \u001b[0;32mreturn\u001b[0m \u001b[0mcall\u001b[0m\u001b[0;34m(\u001b[0m\u001b[0;34m)\u001b[0m\u001b[0;34m\u001b[0m\u001b[0;34m\u001b[0m\u001b[0m\n\u001b[0m\u001b[1;32m    477\u001b[0m \u001b[0;34m\u001b[0m\u001b[0m\n\u001b[1;32m    478\u001b[0m     \u001b[0;32mdef\u001b[0m \u001b[0mget_dataset\u001b[0m\u001b[0;34m(\u001b[0m\u001b[0mself\u001b[0m\u001b[0;34m,\u001b[0m \u001b[0mdataset_ref\u001b[0m\u001b[0;34m,\u001b[0m \u001b[0mretry\u001b[0m\u001b[0;34m=\u001b[0m\u001b[0mDEFAULT_RETRY\u001b[0m\u001b[0;34m)\u001b[0m\u001b[0;34m:\u001b[0m\u001b[0;34m\u001b[0m\u001b[0;34m\u001b[0m\u001b[0m\n",
            "\u001b[0;32m/usr/local/lib/python3.6/dist-packages/google/api_core/retry.py\u001b[0m in \u001b[0;36mretry_wrapped_func\u001b[0;34m(*args, **kwargs)\u001b[0m\n\u001b[1;32m    284\u001b[0m                 \u001b[0msleep_generator\u001b[0m\u001b[0;34m,\u001b[0m\u001b[0;34m\u001b[0m\u001b[0;34m\u001b[0m\u001b[0m\n\u001b[1;32m    285\u001b[0m                 \u001b[0mself\u001b[0m\u001b[0;34m.\u001b[0m\u001b[0m_deadline\u001b[0m\u001b[0;34m,\u001b[0m\u001b[0;34m\u001b[0m\u001b[0;34m\u001b[0m\u001b[0m\n\u001b[0;32m--> 286\u001b[0;31m                 \u001b[0mon_error\u001b[0m\u001b[0;34m=\u001b[0m\u001b[0mon_error\u001b[0m\u001b[0;34m,\u001b[0m\u001b[0;34m\u001b[0m\u001b[0;34m\u001b[0m\u001b[0m\n\u001b[0m\u001b[1;32m    287\u001b[0m             )\n\u001b[1;32m    288\u001b[0m \u001b[0;34m\u001b[0m\u001b[0m\n",
            "\u001b[0;32m/usr/local/lib/python3.6/dist-packages/google/api_core/retry.py\u001b[0m in \u001b[0;36mretry_target\u001b[0;34m(target, predicate, sleep_generator, deadline, on_error)\u001b[0m\n\u001b[1;32m    182\u001b[0m     \u001b[0;32mfor\u001b[0m \u001b[0msleep\u001b[0m \u001b[0;32min\u001b[0m \u001b[0msleep_generator\u001b[0m\u001b[0;34m:\u001b[0m\u001b[0;34m\u001b[0m\u001b[0;34m\u001b[0m\u001b[0m\n\u001b[1;32m    183\u001b[0m         \u001b[0;32mtry\u001b[0m\u001b[0;34m:\u001b[0m\u001b[0;34m\u001b[0m\u001b[0;34m\u001b[0m\u001b[0m\n\u001b[0;32m--> 184\u001b[0;31m             \u001b[0;32mreturn\u001b[0m \u001b[0mtarget\u001b[0m\u001b[0;34m(\u001b[0m\u001b[0;34m)\u001b[0m\u001b[0;34m\u001b[0m\u001b[0;34m\u001b[0m\u001b[0m\n\u001b[0m\u001b[1;32m    185\u001b[0m \u001b[0;34m\u001b[0m\u001b[0m\n\u001b[1;32m    186\u001b[0m         \u001b[0;31m# pylint: disable=broad-except\u001b[0m\u001b[0;34m\u001b[0m\u001b[0;34m\u001b[0m\u001b[0;34m\u001b[0m\u001b[0m\n",
            "\u001b[0;32m/usr/local/lib/python3.6/dist-packages/google/cloud/_http.py\u001b[0m in \u001b[0;36mapi_request\u001b[0;34m(self, method, path, query_params, data, content_type, headers, api_base_url, api_version, expect_json, _target_object)\u001b[0m\n\u001b[1;32m    391\u001b[0m \u001b[0;34m\u001b[0m\u001b[0m\n\u001b[1;32m    392\u001b[0m         \u001b[0;32mif\u001b[0m \u001b[0;32mnot\u001b[0m \u001b[0;36m200\u001b[0m \u001b[0;34m<=\u001b[0m \u001b[0mresponse\u001b[0m\u001b[0;34m.\u001b[0m\u001b[0mstatus_code\u001b[0m \u001b[0;34m<\u001b[0m \u001b[0;36m300\u001b[0m\u001b[0;34m:\u001b[0m\u001b[0;34m\u001b[0m\u001b[0;34m\u001b[0m\u001b[0m\n\u001b[0;32m--> 393\u001b[0;31m             \u001b[0;32mraise\u001b[0m \u001b[0mexceptions\u001b[0m\u001b[0;34m.\u001b[0m\u001b[0mfrom_http_response\u001b[0m\u001b[0;34m(\u001b[0m\u001b[0mresponse\u001b[0m\u001b[0;34m)\u001b[0m\u001b[0;34m\u001b[0m\u001b[0;34m\u001b[0m\u001b[0m\n\u001b[0m\u001b[1;32m    394\u001b[0m \u001b[0;34m\u001b[0m\u001b[0m\n\u001b[1;32m    395\u001b[0m         \u001b[0;32mif\u001b[0m \u001b[0mexpect_json\u001b[0m \u001b[0;32mand\u001b[0m \u001b[0mresponse\u001b[0m\u001b[0;34m.\u001b[0m\u001b[0mcontent\u001b[0m\u001b[0;34m:\u001b[0m\u001b[0;34m\u001b[0m\u001b[0;34m\u001b[0m\u001b[0m\n",
            "\u001b[0;31mForbidden\u001b[0m: 403 POST https://bigquery.googleapis.com/bigquery/v2/projects/groupfinancial/jobs: Access Denied: Project groupfinancial: User does not have bigquery.jobs.create permission in project groupfinancial.\n\n(job ID: 1683ddb5-0629-4994-a5d3-75c63b3c8078)\n\n          -----Query Job SQL Follows-----           \n\n    |    .    |    .    |    .    |    .    |\n   1:\n   2:        SELECT * FROM `aging.debtor_aging_fms` \n   3:        LIMIT 5\n   4:      \n    |    .    |    .    |    .    |    .    |"
          ]
        }
      ]
    },
    {
      "cell_type": "markdown",
      "metadata": {
        "colab_type": "text",
        "id": "v6F6l_NFfnBH"
      },
      "source": [
        "### debtor_aging_coda\n"
      ]
    },
    {
      "cell_type": "code",
      "metadata": {
        "colab_type": "code",
        "id": "0FXXQi_qfnBb",
        "colab": {
          "base_uri": "https://localhost:8080/",
          "height": 34
        },
        "outputId": "53ddfac4-269a-46a8-e485-9f35fb7d26e2"
      },
      "source": [
        "# destination table\n",
        "table_name = \"debtor_aging_coda\"\n",
        "print(f\"Destination Table Name: {dataset_id}.{table_name}\")"
      ],
      "execution_count": null,
      "outputs": [
        {
          "output_type": "stream",
          "text": [
            "Destination Table Name: aging.debtor_aging_coda\n"
          ],
          "name": "stdout"
        }
      ]
    },
    {
      "cell_type": "code",
      "metadata": {
        "colab_type": "code",
        "id": "22mdoc5jfnB5",
        "colab": {
          "base_uri": "https://localhost:8080/",
          "height": 1000
        },
        "outputId": "80b9e6de-e531-4aae-b64a-953ac0755250"
      },
      "source": [
        "sql = f\"\"\"\n",
        "      WITH \n",
        "      t0 AS(\n",
        "        SELECT '2019-07-31' AS aging_date\n",
        "      ),\n",
        "      t1 AS (\n",
        "      SELECT \n",
        "        CASE WHEN head.cmpcode IN ('TV3LIVE', '8TV LIVE', 'NTV7', 'TV9LIVE') THEN 'TVN' \n",
        "             WHEN head.cmpcode IN ('HOTFM', 'MAXLIVE', 'KOOLFM', 'ONEFM') then 'RIPPLE'\n",
        "             END AS platform,\n",
        "        PARSE_DATE('%Y-%m-%d', (SELECT aging_date FROM t0)) AS aging_date,\n",
        "        DATE(head.docdate) AS doc_date,\n",
        "        CAST(line.valuehome AS NUMERIC) AS amount,\n",
        "        line.el3 AS agency_no,\n",
        "        e3.name AS agency_name,\n",
        "        line.el4 AS customer_no,\n",
        "        e4.name AS customer_name\n",
        "      FROM `mp-vertex.trusted_coda.oas_dochead_inv` head\n",
        "        LEFT JOIN `mp-vertex.trusted_coda.oas_docline_inv` line \n",
        "          ON head.cmpcode  = line.cmpcode AND head.doccode = line.doccode AND head.docnum = line.docnum\n",
        "        LEFT JOIN `mp-vertex.trusted_coda.oas_element_3` e3\n",
        "          ON line.el3 = e3.code AND line.cmpcode = e3.cmpcode\n",
        "        LEFT JOIN `mp-vertex.trusted_coda.oas_element_4` e4\n",
        "          ON line.el4 = e4.code AND line.cmpcode = e4.cmpcode \n",
        "      WHERE\n",
        "        head.doccode = 'AINV' \n",
        "        AND line.statpay = 84\n",
        "        AND line.el2 = '53001'),\n",
        "\n",
        "        t2 AS (\n",
        "          SELECT\n",
        "            platform,\n",
        "            aging_date,\n",
        "            DATE_DIFF(aging_date, doc_date, DAY) as aging,\n",
        "            agency_no,\n",
        "            agency_name,\n",
        "            customer_no,\n",
        "            customer_name,\n",
        "            amount\n",
        "          FROM t1\n",
        "        ),\n",
        "        t3 AS (\n",
        "          SELECT t2.* EXCEPT(aging, agency_no, agency_name),\n",
        "          CASE \n",
        "            WHEN aging < 31 THEN \"b0\"\n",
        "            WHEN aging < 61 THEN \"b1\"\n",
        "            WHEN aging < 91 THEN \"b2\"\n",
        "            WHEN aging <121 THEN \"b3\"\n",
        "            WHEN aging <151 THEN \"b4\"\n",
        "            WHEN aging <181 THEN \"b5\"\n",
        "          ELSE\n",
        "            \"b6\"\n",
        "          END AS bucket_id,\n",
        "          CASE \n",
        "            WHEN REGEXP_CONTAINS(agency_name, r'/DIRECT CLIENT/') THEN \"DIRECT ACCOUNT\"\n",
        "          ELSE\n",
        "            \"AGENCY\"\n",
        "          END AS industry\n",
        "          FROM t2\n",
        "        ),\n",
        "        t4 AS (\n",
        "          SELECT\n",
        "          platform,\n",
        "          aging_date,\n",
        "          industry,\n",
        "          customer_no, \n",
        "          customer_name, \n",
        "          bucket_id,\n",
        "          SUM(amount) AS bal_amount\n",
        "          FROM t3\n",
        "          GROUP BY platform, aging_date, industry, customer_no, customer_name, bucket_id\n",
        "        ),\n",
        "        t5 AS (\n",
        "          SELECT\n",
        "          platform,\n",
        "          aging_date,\n",
        "          industry,\n",
        "          customer_no, \n",
        "          customer_name,\n",
        "          MAX(IF(bucket_id = 'b0', bal_amount, 0)) AS b0,\n",
        "          MAX(IF(bucket_id = 'b1', bal_amount, 0)) AS b1,\n",
        "          MAX(IF(bucket_id = 'b2', bal_amount, 0)) AS b2,\n",
        "          MAX(IF(bucket_id = 'b3', bal_amount, 0)) AS b3,\n",
        "          MAX(IF(bucket_id = 'b4', bal_amount, 0)) AS b4,\n",
        "          MAX(IF(bucket_id = 'b5', bal_amount, 0)) AS b5,\n",
        "          MAX(IF(bucket_id = 'b6', bal_amount, 0)) AS b6\n",
        "        FROM t4\n",
        "        GROUP BY platform, aging_date, industry, customer_no, customer_name\n",
        "        ),\n",
        "        t6 AS (\n",
        "          SELECT\n",
        "            platform,\n",
        "            aging_date,\n",
        "            EXTRACT(YEAR FROM aging_date) AS aging_year,\n",
        "            FORMAT_DATE(\"%Y-%m\", aging_date) AS aging_month,\n",
        "            FORMAT_DATE(\"%Y-Q%Q\", aging_date) AS aging_quarter,\n",
        "            industry,\n",
        "            'UNKNOWN' AS territory,\n",
        "            'UNKNOWN' AS `grouping`,\n",
        "            'UNKNOWN' AS `collector`,\n",
        "            customer_no, \n",
        "            customer_name,\n",
        "            (b0 + b1 + b2 + b3 + b4 + b5 + b6) AS bal_amount,\n",
        "            b0,\n",
        "            b1,\n",
        "            b2,\n",
        "            b3,\n",
        "            b4,\n",
        "            b5,\n",
        "            b6,\n",
        "            0 AS cash_deposit,\n",
        "            0 AS bank_guarantee\n",
        "          FROM t5\n",
        "        )\n",
        "        SELECT * FROM t6;\n",
        "\n",
        "    \"\"\"\n",
        "print(sql)"
      ],
      "execution_count": null,
      "outputs": [
        {
          "output_type": "stream",
          "text": [
            "\n",
            "      WITH \n",
            "      t0 AS(\n",
            "        SELECT '2019-07-31' AS aging_date\n",
            "      ),\n",
            "      t1 AS (\n",
            "      SELECT \n",
            "        CASE WHEN head.cmpcode IN ('TV3LIVE', '8TV LIVE', 'NTV7', 'TV9LIVE') THEN 'TVN' \n",
            "             WHEN head.cmpcode IN ('HOTFM', 'MAXLIVE', 'KOOLFM', 'ONEFM') then 'RIPPLE'\n",
            "             END AS platform,\n",
            "        PARSE_DATE('%Y-%m-%d', (SELECT aging_date FROM t0)) AS aging_date,\n",
            "        DATE(head.docdate) AS doc_date,\n",
            "        CAST(line.valuehome AS NUMERIC) AS amount,\n",
            "        line.el3 AS agency_no,\n",
            "        e3.name AS agency_name,\n",
            "        line.el4 AS customer_no,\n",
            "        e4.name AS customer_name\n",
            "      FROM `mp-vertex.trusted_coda.oas_dochead_inv` head\n",
            "        LEFT JOIN `mp-vertex.trusted_coda.oas_docline_inv` line \n",
            "          ON head.cmpcode  = line.cmpcode AND head.doccode = line.doccode AND head.docnum = line.docnum\n",
            "        LEFT JOIN `mp-vertex.trusted_coda.oas_element_3` e3\n",
            "          ON line.el3 = e3.code AND line.cmpcode = e3.cmpcode\n",
            "        LEFT JOIN `mp-vertex.trusted_coda.oas_element_4` e4\n",
            "          ON line.el4 = e4.code AND line.cmpcode = e4.cmpcode \n",
            "      WHERE\n",
            "        head.doccode = 'AINV' \n",
            "        AND line.statpay = 84\n",
            "        AND line.el2 = '53001'),\n",
            "\n",
            "        t2 AS (\n",
            "          SELECT\n",
            "            platform,\n",
            "            aging_date,\n",
            "            DATE_DIFF(aging_date, doc_date, DAY) as aging,\n",
            "            agency_no,\n",
            "            agency_name,\n",
            "            customer_no,\n",
            "            customer_name,\n",
            "            amount\n",
            "          FROM t1\n",
            "        ),\n",
            "        t3 AS (\n",
            "          SELECT t2.* EXCEPT(aging, agency_no, agency_name),\n",
            "          CASE \n",
            "            WHEN aging < 31 THEN \"b0\"\n",
            "            WHEN aging < 61 THEN \"b1\"\n",
            "            WHEN aging < 91 THEN \"b2\"\n",
            "            WHEN aging <121 THEN \"b3\"\n",
            "            WHEN aging <151 THEN \"b4\"\n",
            "            WHEN aging <181 THEN \"b5\"\n",
            "          ELSE\n",
            "            \"b6\"\n",
            "          END AS bucket_id,\n",
            "          CASE \n",
            "            WHEN REGEXP_CONTAINS(agency_name, r'/DIRECT CLIENT/') THEN \"DIRECT ACCOUNT\"\n",
            "          ELSE\n",
            "            \"AGENCY\"\n",
            "          END AS industry\n",
            "          FROM t2\n",
            "        ),\n",
            "        t4 AS (\n",
            "          SELECT\n",
            "          platform,\n",
            "          aging_date,\n",
            "          industry,\n",
            "          customer_no, \n",
            "          customer_name, \n",
            "          bucket_id,\n",
            "          SUM(amount) AS bal_amount\n",
            "          FROM t3\n",
            "          GROUP BY platform, aging_date, industry, customer_no, customer_name, bucket_id\n",
            "        ),\n",
            "        t5 AS (\n",
            "          SELECT\n",
            "          platform,\n",
            "          aging_date,\n",
            "          industry,\n",
            "          customer_no, \n",
            "          customer_name,\n",
            "          MAX(IF(bucket_id = 'b0', bal_amount, 0)) AS b0,\n",
            "          MAX(IF(bucket_id = 'b1', bal_amount, 0)) AS b1,\n",
            "          MAX(IF(bucket_id = 'b2', bal_amount, 0)) AS b2,\n",
            "          MAX(IF(bucket_id = 'b3', bal_amount, 0)) AS b3,\n",
            "          MAX(IF(bucket_id = 'b4', bal_amount, 0)) AS b4,\n",
            "          MAX(IF(bucket_id = 'b5', bal_amount, 0)) AS b5,\n",
            "          MAX(IF(bucket_id = 'b6', bal_amount, 0)) AS b6\n",
            "        FROM t4\n",
            "        GROUP BY platform, aging_date, industry, customer_no, customer_name\n",
            "        ),\n",
            "        t6 AS (\n",
            "          SELECT\n",
            "            platform,\n",
            "            aging_date,\n",
            "            EXTRACT(YEAR FROM aging_date) AS aging_year,\n",
            "            FORMAT_DATE(\"%Y-%m\", aging_date) AS aging_month,\n",
            "            FORMAT_DATE(\"%Y-Q%Q\", aging_date) AS aging_quarter,\n",
            "            industry,\n",
            "            'UNKNOWN' AS territory,\n",
            "            'UNKNOWN' AS `grouping`,\n",
            "            'UNKNOWN' AS `collector`,\n",
            "            customer_no, \n",
            "            customer_name,\n",
            "            (b0 + b1 + b2 + b3 + b4 + b5 + b6) AS bal_amount,\n",
            "            b0,\n",
            "            b1,\n",
            "            b2,\n",
            "            b3,\n",
            "            b4,\n",
            "            b5,\n",
            "            b6,\n",
            "            0 AS cash_deposit,\n",
            "            0 AS bank_guarantee\n",
            "          FROM t5\n",
            "        )\n",
            "        SELECT * FROM t6;\n",
            "\n",
            "    \n"
          ],
          "name": "stdout"
        }
      ]
    },
    {
      "cell_type": "code",
      "metadata": {
        "colab_type": "code",
        "id": "lnhGrxG-fnCF",
        "colab": {
          "base_uri": "https://localhost:8080/",
          "height": 70
        },
        "outputId": "9298cd78-c6d3-4fec-fc03-3ee279e24113"
      },
      "source": [
        "# destination Table\n",
        "destination_table = dataset.table(table_name)\n",
        "\n",
        "print(f\"Destination Table: {dataset.dataset_id}.{table_name}\")\n",
        "\n",
        "job_config = bigquery.QueryJobConfig()\n",
        "job_config.destination = destination_table\n",
        "job_config.write_disposition = bigquery.WriteDisposition.WRITE_TRUNCATE\n",
        "\n",
        "try:\n",
        "  # Start the query, passing in the extra configuration.\n",
        "  query_job = client.query(\n",
        "      sql,\n",
        "      job_config=job_config)  # API request - starts the query\n",
        "\n",
        "  query_job.result()  # Waits for the query to finish\n",
        "  assert query_job.state == \"DONE\"\n",
        "\n",
        "  print(\"Job finished\")\n",
        "\n",
        "  print(f'Query results loaded to table {dataset_id}.{table_name}')\n",
        "except Exception as e:\n",
        "  print(e)\n",
        "  raise ValueError(f\"Fail to load: {dataset_id}.{table_name}\")"
      ],
      "execution_count": null,
      "outputs": [
        {
          "output_type": "stream",
          "text": [
            "Destination Table: aging.debtor_aging_coda\n",
            "Job finished\n",
            "Query results loaded to table aging.debtor_aging_coda\n"
          ],
          "name": "stdout"
        }
      ]
    },
    {
      "cell_type": "code",
      "metadata": {
        "colab_type": "code",
        "id": "IyZ4Cyh7fnCR",
        "colab": {
          "base_uri": "https://localhost:8080/",
          "height": 230
        },
        "outputId": "501d3ce3-87dd-476c-b76c-dbd113da427b"
      },
      "source": [
        "if IS_DEBUG:\n",
        "  sql = (\n",
        "      f\"\"\"\n",
        "        SELECT * FROM `{dataset_id}.{table_name}` \n",
        "        LIMIT 5\n",
        "      \"\"\")\n",
        "  print(sql)\n",
        "  df = client.query(sql).to_dataframe()\n",
        "  print(df)"
      ],
      "execution_count": null,
      "outputs": [
        {
          "output_type": "stream",
          "text": [
            "\n",
            "        SELECT * FROM `aging.debtor_aging_coda` \n",
            "        LIMIT 5\n",
            "      \n",
            "  platform  aging_date  aging_year  ...         b6 cash_deposit bank_guarantee\n",
            "0      TVN  2019-07-31        2019  ...     284716            0              0\n",
            "1      TVN  2019-07-31        2019  ...  637861.71            0              0\n",
            "2      TVN  2019-07-31        2019  ...          0            0              0\n",
            "3      TVN  2019-07-31        2019  ...          0            0              0\n",
            "4      TVN  2019-07-31        2019  ...          0            0              0\n",
            "\n",
            "[5 rows x 21 columns]\n"
          ],
          "name": "stdout"
        }
      ]
    },
    {
      "cell_type": "markdown",
      "metadata": {
        "id": "BTrwpoPZ2PrB",
        "colab_type": "text"
      },
      "source": [
        "### debtor_aging"
      ]
    },
    {
      "cell_type": "code",
      "metadata": {
        "id": "pSLC59bk2PrW",
        "colab_type": "code",
        "colab": {
          "base_uri": "https://localhost:8080/",
          "height": 34
        },
        "outputId": "4587d2b6-b947-48cb-b16f-e64bd382fad1"
      },
      "source": [
        "# destination table\n",
        "table_name = \"debtor_aging\"\n",
        "print(f\"Destination Table Name: {dataset_id}.{table_name}\")"
      ],
      "execution_count": null,
      "outputs": [
        {
          "output_type": "stream",
          "text": [
            "Destination Table Name: aging.debtor_aging\n"
          ],
          "name": "stdout"
        }
      ]
    },
    {
      "cell_type": "code",
      "metadata": {
        "id": "fE5bdbj02Prl",
        "colab_type": "code",
        "colab": {
          "base_uri": "https://localhost:8080/",
          "height": 1000
        },
        "outputId": "1fe5b02e-835c-4bb8-ba25-8df5d0ec4c3a"
      },
      "source": [
        "sql = f\"\"\"\n",
        "    WITH\n",
        "    fms AS (\n",
        "      SELECT\n",
        "        platform,\n",
        "        aging_date,\n",
        "        aging_year,\n",
        "        aging_month,\n",
        "        aging_quarter,\n",
        "        industry,\n",
        "        territory,\n",
        "        `grouping`,\n",
        "        collector,    \n",
        "        customer_no,\n",
        "        customer_name,\n",
        "        bal_amount,\n",
        "        b0,\n",
        "        b1,\n",
        "        b2,\n",
        "        b3,\n",
        "        b4,\n",
        "        b5,\n",
        "        b6,\n",
        "        cash_deposit,\n",
        "        bank_guarantee\n",
        "      FROM\n",
        "        `groupfinancial.aging.debtor_aging_fms`\n",
        "    ),\n",
        "    coda AS (\n",
        "      SELECT\n",
        "        platform,\n",
        "        aging_date,\n",
        "        aging_year,\n",
        "        aging_month,\n",
        "        aging_quarter,\n",
        "        industry,\n",
        "        territory,\n",
        "        `grouping`,\n",
        "        collector,    \n",
        "        customer_no,\n",
        "        customer_name,\n",
        "        bal_amount,\n",
        "        b0,\n",
        "        b1,\n",
        "        b2,\n",
        "        b3,\n",
        "        b4,\n",
        "        b5,\n",
        "        b6,\n",
        "        cash_deposit,\n",
        "        bank_guarantee\n",
        "      FROM\n",
        "        `groupfinancial.aging.debtor_aging_coda`\n",
        "    ),\n",
        "    t1 AS (\n",
        "      SELECT * FROM fms UNION ALL\n",
        "      SELECT * FROM coda\n",
        "    ),\n",
        "    t2 AS (\n",
        "      SELECT\n",
        "        platform,\n",
        "        aging_date,\n",
        "        aging_year,\n",
        "        aging_month,\n",
        "        aging_quarter,\n",
        "        industry,\n",
        "        territory,\n",
        "        `grouping`,\n",
        "        collector,    \n",
        "        customer_no,\n",
        "        customer_name,\n",
        "        bal_amount,\n",
        "        b0,\n",
        "        b1,\n",
        "        b2,\n",
        "        b3,\n",
        "        b4,\n",
        "        b5,\n",
        "        b6,\n",
        "        LAG(bal_amount) OVER (PARTITION BY customer_no ORDER BY aging_month ASC) AS p_bal_amount,\n",
        "        LAG(b0) OVER (PARTITION BY customer_no ORDER BY aging_month ASC) AS p_b0,\n",
        "        LAG(b1) OVER (PARTITION BY customer_no ORDER BY aging_month ASC) AS p_b1,\n",
        "        LAG(b2) OVER (PARTITION BY customer_no ORDER BY aging_month ASC) AS p_b2,\n",
        "        LAG(b3) OVER (PARTITION BY customer_no ORDER BY aging_month ASC) AS p_b3,\n",
        "        LAG(b4) OVER (PARTITION BY customer_no ORDER BY aging_month ASC) AS p_b4,\n",
        "        LAG(b5) OVER (PARTITION BY customer_no ORDER BY aging_month ASC) AS p_b5,\n",
        "        LAG(b6) OVER (PARTITION BY customer_no ORDER BY aging_month ASC) AS p_b6,\n",
        "        cash_deposit,\n",
        "        bank_guarantee\n",
        "      FROM\n",
        "        t1     \n",
        "    )      \n",
        "      \n",
        "    SELECT *\n",
        "    FROM t2 \n",
        "    -- WHERE customer_no LIKE '%1669%'\n",
        "    ORDER BY aging_month DESC, customer_no;\n",
        "    \"\"\"\n",
        "print(sql)"
      ],
      "execution_count": null,
      "outputs": [
        {
          "output_type": "stream",
          "text": [
            "\n",
            "    WITH\n",
            "    fms AS (\n",
            "      SELECT\n",
            "        platform,\n",
            "        aging_date,\n",
            "        aging_year,\n",
            "        aging_month,\n",
            "        aging_quarter,\n",
            "        industry,\n",
            "        territory,\n",
            "        `grouping`,\n",
            "        collector,    \n",
            "        customer_no,\n",
            "        customer_name,\n",
            "        bal_amount,\n",
            "        b0,\n",
            "        b1,\n",
            "        b2,\n",
            "        b3,\n",
            "        b4,\n",
            "        b5,\n",
            "        b6,\n",
            "        cash_deposit,\n",
            "        bank_guarantee\n",
            "      FROM\n",
            "        `groupfinancial.aging.debtor_aging_fms`\n",
            "    ),\n",
            "    coda AS (\n",
            "      SELECT\n",
            "        platform,\n",
            "        aging_date,\n",
            "        aging_year,\n",
            "        aging_month,\n",
            "        aging_quarter,\n",
            "        industry,\n",
            "        territory,\n",
            "        `grouping`,\n",
            "        collector,    \n",
            "        customer_no,\n",
            "        customer_name,\n",
            "        bal_amount,\n",
            "        b0,\n",
            "        b1,\n",
            "        b2,\n",
            "        b3,\n",
            "        b4,\n",
            "        b5,\n",
            "        b6,\n",
            "        cash_deposit,\n",
            "        bank_guarantee\n",
            "      FROM\n",
            "        `groupfinancial.aging.debtor_aging_coda`\n",
            "    ),\n",
            "    t1 AS (\n",
            "      SELECT * FROM fms UNION ALL\n",
            "      SELECT * FROM coda\n",
            "    ),\n",
            "    t2 AS (\n",
            "      SELECT\n",
            "        platform,\n",
            "        aging_date,\n",
            "        aging_year,\n",
            "        aging_month,\n",
            "        aging_quarter,\n",
            "        industry,\n",
            "        territory,\n",
            "        `grouping`,\n",
            "        collector,    \n",
            "        customer_no,\n",
            "        customer_name,\n",
            "        bal_amount,\n",
            "        b0,\n",
            "        b1,\n",
            "        b2,\n",
            "        b3,\n",
            "        b4,\n",
            "        b5,\n",
            "        b6,\n",
            "        LAG(bal_amount) OVER (PARTITION BY customer_no ORDER BY aging_month ASC) AS p_bal_amount,\n",
            "        LAG(b0) OVER (PARTITION BY customer_no ORDER BY aging_month ASC) AS p_b0,\n",
            "        LAG(b1) OVER (PARTITION BY customer_no ORDER BY aging_month ASC) AS p_b1,\n",
            "        LAG(b2) OVER (PARTITION BY customer_no ORDER BY aging_month ASC) AS p_b2,\n",
            "        LAG(b3) OVER (PARTITION BY customer_no ORDER BY aging_month ASC) AS p_b3,\n",
            "        LAG(b4) OVER (PARTITION BY customer_no ORDER BY aging_month ASC) AS p_b4,\n",
            "        LAG(b5) OVER (PARTITION BY customer_no ORDER BY aging_month ASC) AS p_b5,\n",
            "        LAG(b6) OVER (PARTITION BY customer_no ORDER BY aging_month ASC) AS p_b6,\n",
            "        cash_deposit,\n",
            "        bank_guarantee\n",
            "      FROM\n",
            "        t1     \n",
            "    )      \n",
            "      \n",
            "    SELECT *\n",
            "    FROM t2 \n",
            "    -- WHERE customer_no LIKE '%1669%'\n",
            "    ORDER BY aging_month DESC, customer_no;\n",
            "    \n"
          ],
          "name": "stdout"
        }
      ]
    },
    {
      "cell_type": "code",
      "metadata": {
        "id": "-rCAr3-t2Prw",
        "colab_type": "code",
        "colab": {
          "base_uri": "https://localhost:8080/",
          "height": 70
        },
        "outputId": "deed0572-606a-4902-810b-ff5b21e94c39"
      },
      "source": [
        "# destination Table\n",
        "destination_table = dataset.table(table_name)\n",
        "\n",
        "print(f\"Destination Table: {dataset.dataset_id}.{table_name}\")\n",
        "\n",
        "job_config = bigquery.QueryJobConfig()\n",
        "job_config.destination = destination_table\n",
        "job_config.write_disposition = bigquery.WriteDisposition.WRITE_TRUNCATE\n",
        "\n",
        "try:\n",
        "  # Start the query, passing in the extra configuration.\n",
        "  query_job = client.query(\n",
        "      sql,\n",
        "      job_config=job_config)  # API request - starts the query\n",
        "\n",
        "  query_job.result()  # Waits for the query to finish\n",
        "  assert query_job.state == \"DONE\"\n",
        "\n",
        "  print(\"Job finished\")\n",
        "\n",
        "  print(f'Query results loaded to table {dataset_id}.{table_name}')\n",
        "except Exception as e:\n",
        "  print(e)\n",
        "  raise ValueError(f\"Fail to load: {dataset_id}.{table_name}\")"
      ],
      "execution_count": null,
      "outputs": [
        {
          "output_type": "stream",
          "text": [
            "Destination Table: aging.debtor_aging\n",
            "Job finished\n",
            "Query results loaded to table aging.debtor_aging\n"
          ],
          "name": "stdout"
        }
      ]
    },
    {
      "cell_type": "code",
      "metadata": {
        "id": "lyjvpaN-6v-X",
        "colab_type": "code",
        "colab": {
          "base_uri": "https://localhost:8080/",
          "height": 230
        },
        "outputId": "5b69a9fe-4f36-4900-c42c-0e5fe232347e"
      },
      "source": [
        "if IS_DEBUG:\n",
        "  sql = (\n",
        "      f\"\"\"\n",
        "        SELECT * FROM `{dataset_id}.{table_name}` \n",
        "        LIMIT 5\n",
        "      \"\"\")\n",
        "  print(sql)\n",
        "  df = client.query(sql).to_dataframe()\n",
        "  print(df)"
      ],
      "execution_count": null,
      "outputs": [
        {
          "output_type": "stream",
          "text": [
            "\n",
            "        SELECT * FROM `aging.debtor_aging` \n",
            "        LIMIT 5\n",
            "      \n",
            "  platform  aging_date  aging_year  ... p_b6 cash_deposit bank_guarantee\n",
            "0     NSTP  2019-07-31        2019  ...    0            0         100000\n",
            "1     NSTP  2019-07-31        2019  ...    0            0          50000\n",
            "2     NSTP  2019-07-31        2019  ...    0            0          50000\n",
            "3     NSTP  2019-07-31        2019  ...    0            0          50000\n",
            "4     NSTP  2019-07-31        2019  ...    0            0          50000\n",
            "\n",
            "[5 rows x 29 columns]\n"
          ],
          "name": "stdout"
        }
      ]
    },
    {
      "cell_type": "markdown",
      "metadata": {
        "colab_type": "text",
        "id": "SJ8eqozi4Cip"
      },
      "source": [
        "### debtor_aging_by_quarter"
      ]
    },
    {
      "cell_type": "code",
      "metadata": {
        "colab_type": "code",
        "id": "CE904qbw4Cit",
        "colab": {
          "base_uri": "https://localhost:8080/",
          "height": 34
        },
        "outputId": "322da7d4-00a4-44fa-9c96-4780caa2969a"
      },
      "source": [
        "# destination table\n",
        "table_name = \"debtor_aging_by_quarter\"\n",
        "print(f\"Destination Table Name: {dataset_id}.{table_name}\")"
      ],
      "execution_count": null,
      "outputs": [
        {
          "output_type": "stream",
          "text": [
            "Destination Table Name: aging.debtor_aging_by_quarter\n"
          ],
          "name": "stdout"
        }
      ]
    },
    {
      "cell_type": "code",
      "metadata": {
        "colab_type": "code",
        "id": "uyDIvnrY4Ci3",
        "colab": {
          "base_uri": "https://localhost:8080/",
          "height": 1000
        },
        "outputId": "a31af183-aa84-4f9b-9da3-80f3e9ca9eed"
      },
      "source": [
        "sql = f\"\"\"\n",
        "    WITH\n",
        "    t0 AS (\n",
        "      SELECT * \n",
        "      FROM\n",
        "        `groupfinancial.aging.debtor_aging`\n",
        "    ),\n",
        "    t1 AS (\n",
        "      SELECT\n",
        "        ROW_NUMBER() OVER (PARTITION BY customer_no, aging_quarter ORDER BY aging_month DESC) AS ROW_ID,\n",
        "        platform,\n",
        "        aging_date,\n",
        "        aging_year,\n",
        "        aging_month,\n",
        "        aging_quarter,\n",
        "        industry,\n",
        "        territory,\n",
        "        `grouping`,\n",
        "        collector,    \n",
        "        customer_no,\n",
        "        customer_name,\n",
        "        bal_amount,\n",
        "        b0,\n",
        "        b1,\n",
        "        b2,\n",
        "        b3,\n",
        "        b4,\n",
        "        b5,\n",
        "        b6\n",
        "      FROM\n",
        "        t0\n",
        "    ),\n",
        "    t2 AS(\n",
        "      SELECT * EXCEPT (ROW_ID)\n",
        "      FROM t1\n",
        "      WHERE ROW_ID = 1\n",
        "    ),\n",
        "    t3 AS (\n",
        "      SELECT\n",
        "        platform,\n",
        "        aging_quarter,\n",
        "        industry,\n",
        "        territory,\n",
        "        `grouping`,\n",
        "        collector,    \n",
        "        customer_no,\n",
        "        customer_name,\n",
        "        bal_amount,\n",
        "        b0,\n",
        "        b1,\n",
        "        b2,\n",
        "        b3,\n",
        "        b4,\n",
        "        b5,\n",
        "        b6,\n",
        "        LAG(bal_amount) OVER (PARTITION BY customer_no ORDER BY aging_quarter ASC) AS p_bal_amount,\n",
        "        LAG(b0) OVER (PARTITION BY customer_no ORDER BY aging_quarter ASC) AS p_b0,\n",
        "        LAG(b1) OVER (PARTITION BY customer_no ORDER BY aging_quarter ASC) AS p_b1,\n",
        "        LAG(b2) OVER (PARTITION BY customer_no ORDER BY aging_quarter ASC) AS p_b2,\n",
        "        LAG(b0) OVER (PARTITION BY customer_no ORDER BY aging_quarter ASC) AS p_b3,\n",
        "        LAG(b0) OVER (PARTITION BY customer_no ORDER BY aging_quarter ASC) AS p_b4,\n",
        "        LAG(b0) OVER (PARTITION BY customer_no ORDER BY aging_quarter ASC) AS p_b5,\n",
        "        LAG(b6) OVER (PARTITION BY customer_no ORDER BY aging_quarter ASC) AS p_b6\n",
        "      FROM\n",
        "        t2\n",
        "    ),\n",
        "    t4 AS (\n",
        "      SELECT \n",
        "        t0.platform,\n",
        "        t0.aging_date,\n",
        "        t0.industry,\n",
        "        t0.territory,\n",
        "        t0.`grouping`,\n",
        "        t0.collector,    \n",
        "        t0.customer_no,\n",
        "        t0.customer_name,\n",
        "        t3.bal_amount,\n",
        "        t3.b0,\n",
        "        t3.b1,\n",
        "        t3.b2,\n",
        "        t3.b3,\n",
        "        t3.b4,\n",
        "        t3.b5,\n",
        "        t3.b6,\n",
        "        t3.p_b0,\n",
        "        t3.p_b1,\n",
        "        t3.p_b2,\n",
        "        t3.p_b3,\n",
        "        t3.p_b4,\n",
        "        t3.p_b5,\n",
        "        t3.p_b6\n",
        "      FROM t0 LEFT JOIN t3 \n",
        "        ON t0.platform = t3.platform AND t0.aging_quarter = t3.aging_quarter AND t0.customer_no = t3.customer_no\n",
        "    )\n",
        "    SELECT *\n",
        "    FROM t4\n",
        "    -- WHERE customer_no LIKE '%1669%'\n",
        "    ORDER BY aging_date DESC, customer_no;\n",
        "    \n",
        "    \"\"\"\n",
        "print(sql)"
      ],
      "execution_count": null,
      "outputs": [
        {
          "output_type": "stream",
          "text": [
            "\n",
            "    WITH\n",
            "    t0 AS (\n",
            "      SELECT * \n",
            "      FROM\n",
            "        `groupfinancial.aging.debtor_aging`\n",
            "    ),\n",
            "    t1 AS (\n",
            "      SELECT\n",
            "        ROW_NUMBER() OVER (PARTITION BY customer_no, aging_quarter ORDER BY aging_month DESC) AS ROW_ID,\n",
            "        platform,\n",
            "        aging_date,\n",
            "        aging_year,\n",
            "        aging_month,\n",
            "        aging_quarter,\n",
            "        industry,\n",
            "        territory,\n",
            "        `grouping`,\n",
            "        collector,    \n",
            "        customer_no,\n",
            "        customer_name,\n",
            "        bal_amount,\n",
            "        b0,\n",
            "        b1,\n",
            "        b2,\n",
            "        b3,\n",
            "        b4,\n",
            "        b5,\n",
            "        b6\n",
            "      FROM\n",
            "        t0\n",
            "    ),\n",
            "    t2 AS(\n",
            "      SELECT * EXCEPT (ROW_ID)\n",
            "      FROM t1\n",
            "      WHERE ROW_ID = 1\n",
            "    ),\n",
            "    t3 AS (\n",
            "      SELECT\n",
            "        platform,\n",
            "        aging_quarter,\n",
            "        industry,\n",
            "        territory,\n",
            "        `grouping`,\n",
            "        collector,    \n",
            "        customer_no,\n",
            "        customer_name,\n",
            "        bal_amount,\n",
            "        b0,\n",
            "        b1,\n",
            "        b2,\n",
            "        b3,\n",
            "        b4,\n",
            "        b5,\n",
            "        b6,\n",
            "        LAG(bal_amount) OVER (PARTITION BY customer_no ORDER BY aging_quarter ASC) AS p_bal_amount,\n",
            "        LAG(b0) OVER (PARTITION BY customer_no ORDER BY aging_quarter ASC) AS p_b0,\n",
            "        LAG(b1) OVER (PARTITION BY customer_no ORDER BY aging_quarter ASC) AS p_b1,\n",
            "        LAG(b2) OVER (PARTITION BY customer_no ORDER BY aging_quarter ASC) AS p_b2,\n",
            "        LAG(b0) OVER (PARTITION BY customer_no ORDER BY aging_quarter ASC) AS p_b3,\n",
            "        LAG(b0) OVER (PARTITION BY customer_no ORDER BY aging_quarter ASC) AS p_b4,\n",
            "        LAG(b0) OVER (PARTITION BY customer_no ORDER BY aging_quarter ASC) AS p_b5,\n",
            "        LAG(b6) OVER (PARTITION BY customer_no ORDER BY aging_quarter ASC) AS p_b6\n",
            "      FROM\n",
            "        t2\n",
            "    ),\n",
            "    t4 AS (\n",
            "      SELECT \n",
            "        t0.platform,\n",
            "        t0.aging_date,\n",
            "        t0.industry,\n",
            "        t0.territory,\n",
            "        t0.`grouping`,\n",
            "        t0.collector,    \n",
            "        t0.customer_no,\n",
            "        t0.customer_name,\n",
            "        t3.bal_amount,\n",
            "        t3.b0,\n",
            "        t3.b1,\n",
            "        t3.b2,\n",
            "        t3.b3,\n",
            "        t3.b4,\n",
            "        t3.b5,\n",
            "        t3.b6,\n",
            "        t3.p_b0,\n",
            "        t3.p_b1,\n",
            "        t3.p_b2,\n",
            "        t3.p_b3,\n",
            "        t3.p_b4,\n",
            "        t3.p_b5,\n",
            "        t3.p_b6\n",
            "      FROM t0 LEFT JOIN t3 \n",
            "        ON t0.platform = t3.platform AND t0.aging_quarter = t3.aging_quarter AND t0.customer_no = t3.customer_no\n",
            "    )\n",
            "    SELECT *\n",
            "    FROM t4\n",
            "    -- WHERE customer_no LIKE '%1669%'\n",
            "    ORDER BY aging_date DESC, customer_no;\n",
            "    \n",
            "    \n"
          ],
          "name": "stdout"
        }
      ]
    },
    {
      "cell_type": "code",
      "metadata": {
        "colab_type": "code",
        "id": "1uUQ764D4CjC",
        "colab": {
          "base_uri": "https://localhost:8080/",
          "height": 70
        },
        "outputId": "a2905d1b-1038-4c9c-e5c0-d5bb82beb2e7"
      },
      "source": [
        "# destination Table\n",
        "destination_table = dataset.table(table_name)\n",
        "\n",
        "print(f\"Destination Table: {dataset.dataset_id}.{table_name}\")\n",
        "\n",
        "job_config = bigquery.QueryJobConfig()\n",
        "job_config.destination = destination_table\n",
        "job_config.write_disposition = bigquery.WriteDisposition.WRITE_TRUNCATE\n",
        "\n",
        "try:\n",
        "  # Start the query, passing in the extra configuration.\n",
        "  query_job = client.query(\n",
        "      sql,\n",
        "      job_config=job_config)  # API request - starts the query\n",
        "\n",
        "  query_job.result()  # Waits for the query to finish\n",
        "  assert query_job.state == \"DONE\"\n",
        "\n",
        "  print(\"Job finished\")\n",
        "\n",
        "  print(f'Query results loaded to table {dataset_id}.{table_name}')\n",
        "except Exception as e:\n",
        "  print(e)\n",
        "  raise ValueError(f\"Fail to load: {dataset_id}.{table_name}\")"
      ],
      "execution_count": null,
      "outputs": [
        {
          "output_type": "stream",
          "text": [
            "Destination Table: aging.debtor_aging_by_quarter\n",
            "Job finished\n",
            "Query results loaded to table aging.debtor_aging_by_quarter\n"
          ],
          "name": "stdout"
        }
      ]
    },
    {
      "cell_type": "code",
      "metadata": {
        "colab_type": "code",
        "id": "QJshrC8C4CjS",
        "colab": {
          "base_uri": "https://localhost:8080/",
          "height": 230
        },
        "outputId": "c5f823a8-d1f0-4db6-e7f5-ea2f3d099626"
      },
      "source": [
        "if IS_DEBUG:\n",
        "  sql = (\n",
        "      f\"\"\"\n",
        "        SELECT * FROM `{dataset_id}.{table_name}` \n",
        "        LIMIT 5\n",
        "      \"\"\")\n",
        "  print(sql)\n",
        "  df = client.query(sql).to_dataframe()\n",
        "  print(df)"
      ],
      "execution_count": null,
      "outputs": [
        {
          "output_type": "stream",
          "text": [
            "\n",
            "        SELECT * FROM `aging.debtor_aging_by_quarter` \n",
            "        LIMIT 5\n",
            "      \n",
            "  platform  aging_date industry  ...      p_b4      p_b5 p_b6\n",
            "0     NSTP  2019-07-31   AGENCY  ...  64822.83  64822.83    0\n",
            "1     NSTP  2019-07-31   AGENCY  ...         0         0    0\n",
            "2     NSTP  2019-07-31   AGENCY  ...    7102.6    7102.6    0\n",
            "3     NSTP  2019-07-31   AGENCY  ...  71653.98  71653.98    0\n",
            "4     NSTP  2019-07-31   AGENCY  ...  87590.79  87590.79    0\n",
            "\n",
            "[5 rows x 23 columns]\n"
          ],
          "name": "stdout"
        }
      ]
    },
    {
      "cell_type": "markdown",
      "metadata": {
        "colab_type": "text",
        "id": "Tlr37RO_hzsa"
      },
      "source": [
        "### debtor_aging_by_bucket"
      ]
    },
    {
      "cell_type": "code",
      "metadata": {
        "colab_type": "code",
        "id": "XWAZhO7khzsl",
        "colab": {
          "base_uri": "https://localhost:8080/",
          "height": 34
        },
        "outputId": "400ae853-2e39-4cb1-979e-a10315bd3f21"
      },
      "source": [
        "# destination table\n",
        "table_name = \"debtor_aging_by_bucket\"\n",
        "print(f\"Destination Table Name: {dataset_id}.{table_name}\")"
      ],
      "execution_count": null,
      "outputs": [
        {
          "output_type": "stream",
          "text": [
            "Destination Table Name: aging.debtor_aging_by_bucket\n"
          ],
          "name": "stdout"
        }
      ]
    },
    {
      "cell_type": "code",
      "metadata": {
        "colab_type": "code",
        "id": "F_IeepY5hzs5",
        "colab": {
          "base_uri": "https://localhost:8080/",
          "height": 1000
        },
        "outputId": "3e7d0c07-bb1d-40f4-ad0b-db2464b0d806"
      },
      "source": [
        "sql = f\"\"\"\n",
        "      \n",
        "      WITH\n",
        "      t1 AS (\n",
        "      SELECT\n",
        "      platform,\n",
        "      aging_date,\n",
        "      industry,\n",
        "      territory,\n",
        "      `grouping`,\n",
        "      collector,    \n",
        "      customer_no,\n",
        "      customer_name,\n",
        "      [\n",
        "        STRUCT('b0' AS bucket_id, '  1- 30 days' AS bucket, b0 AS amount, p_b0 AS prev_amount),\n",
        "        STRUCT('b1' AS bucket_id, ' 31- 60 days' AS bucket, b1 AS amount, p_b1 AS prev_amount),\n",
        "        STRUCT('b2' AS bucket_id, ' 61- 90 days' AS bucket, b2 AS amount, p_b2 AS prev_amount),\n",
        "        STRUCT('b3' AS bucket_id, ' 91-120 days' AS bucket, b3 AS amount, p_b3 AS prev_amount),\n",
        "        STRUCT('b4' AS bucket_id, '121-150 days' AS bucket, b4 AS amount, p_b4 AS prev_amount),\n",
        "        STRUCT('b5' AS bucket_id, '151-180 days' AS bucket, b5 AS amount, p_b5 AS prev_amount),\n",
        "        STRUCT('b6' AS bucket_id, '  > 180 days' AS bucket, b6 AS amount, p_b6 AS prev_amount)\n",
        "      ] AS metrics_data\n",
        "      FROM\n",
        "      `groupfinancial.aging.debtor_aging` \n",
        "      ),\n",
        "      t2 AS (\n",
        "      SELECT\n",
        "      platform,\n",
        "      aging_date,\n",
        "      industry,\n",
        "      territory,\n",
        "      `grouping`,\n",
        "      collector,    \n",
        "      customer_no,\n",
        "      customer_name,\n",
        "      metrics_data\n",
        "      FROM\n",
        "      t1\n",
        "      CROSS JOIN UNNEST(t1.metrics_data) AS metrics_data)\n",
        "\n",
        "      SELECT \n",
        "      platform,\n",
        "      aging_date,\n",
        "      industry,\n",
        "      territory,\n",
        "      `grouping`,\n",
        "      collector,    \n",
        "      customer_no,\n",
        "      customer_name,\n",
        "      metrics_data.bucket_id AS bucket_id,\n",
        "      metrics_data.bucket AS bucket,\n",
        "      CAST(metrics_data.amount AS NUMERIC) AS amount,\n",
        "      CAST(metrics_data.prev_amount AS NUMERIC) AS prev_amount,\n",
        "      CASE WHEN SIGN(metrics_data.amount) < 0\n",
        "        THEN 0\n",
        "        ELSE metrics_data.amount\n",
        "      END AS net_amount,\n",
        "      CASE WHEN SIGN(metrics_data.prev_amount) < 0\n",
        "        THEN 0\n",
        "        ELSE metrics_data.prev_amount\n",
        "      END AS net_prev_amount\n",
        "      FROM t2\n",
        "      ORDER BY customer_no, aging_date DESC, bucket_id;\n",
        "    \n",
        "    \"\"\"\n",
        "print(sql)"
      ],
      "execution_count": null,
      "outputs": [
        {
          "output_type": "stream",
          "text": [
            "\n",
            "      \n",
            "      WITH\n",
            "      t1 AS (\n",
            "      SELECT\n",
            "      platform,\n",
            "      aging_date,\n",
            "      industry,\n",
            "      territory,\n",
            "      `grouping`,\n",
            "      collector,    \n",
            "      customer_no,\n",
            "      customer_name,\n",
            "      [\n",
            "        STRUCT('b0' AS bucket_id, '  1- 30 days' AS bucket, b0 AS amount, p_b0 AS prev_amount),\n",
            "        STRUCT('b1' AS bucket_id, ' 31- 60 days' AS bucket, b1 AS amount, p_b1 AS prev_amount),\n",
            "        STRUCT('b2' AS bucket_id, ' 61- 90 days' AS bucket, b2 AS amount, p_b2 AS prev_amount),\n",
            "        STRUCT('b3' AS bucket_id, ' 91-120 days' AS bucket, b3 AS amount, p_b3 AS prev_amount),\n",
            "        STRUCT('b4' AS bucket_id, '121-150 days' AS bucket, b4 AS amount, p_b4 AS prev_amount),\n",
            "        STRUCT('b5' AS bucket_id, '151-180 days' AS bucket, b5 AS amount, p_b5 AS prev_amount),\n",
            "        STRUCT('b6' AS bucket_id, '  > 180 days' AS bucket, b6 AS amount, p_b6 AS prev_amount)\n",
            "      ] AS metrics_data\n",
            "      FROM\n",
            "      `groupfinancial.aging.debtor_aging` \n",
            "      ),\n",
            "      t2 AS (\n",
            "      SELECT\n",
            "      platform,\n",
            "      aging_date,\n",
            "      industry,\n",
            "      territory,\n",
            "      `grouping`,\n",
            "      collector,    \n",
            "      customer_no,\n",
            "      customer_name,\n",
            "      metrics_data\n",
            "      FROM\n",
            "      t1\n",
            "      CROSS JOIN UNNEST(t1.metrics_data) AS metrics_data)\n",
            "\n",
            "      SELECT \n",
            "      platform,\n",
            "      aging_date,\n",
            "      industry,\n",
            "      territory,\n",
            "      `grouping`,\n",
            "      collector,    \n",
            "      customer_no,\n",
            "      customer_name,\n",
            "      metrics_data.bucket_id AS bucket_id,\n",
            "      metrics_data.bucket AS bucket,\n",
            "      CAST(metrics_data.amount AS NUMERIC) AS amount,\n",
            "      CAST(metrics_data.prev_amount AS NUMERIC) AS prev_amount,\n",
            "      CASE WHEN SIGN(metrics_data.amount) < 0\n",
            "        THEN 0\n",
            "        ELSE metrics_data.amount\n",
            "      END AS net_amount,\n",
            "      CASE WHEN SIGN(metrics_data.prev_amount) < 0\n",
            "        THEN 0\n",
            "        ELSE metrics_data.prev_amount\n",
            "      END AS net_prev_amount\n",
            "      FROM t2\n",
            "      ORDER BY customer_no, aging_date DESC, bucket_id;\n",
            "    \n",
            "    \n"
          ],
          "name": "stdout"
        }
      ]
    },
    {
      "cell_type": "code",
      "metadata": {
        "colab_type": "code",
        "id": "7gEO5oakhztK",
        "colab": {
          "base_uri": "https://localhost:8080/",
          "height": 70
        },
        "outputId": "ef93764c-fd74-4742-8afb-ee978904c2e5"
      },
      "source": [
        "# destination Table\n",
        "destination_table = dataset.table(table_name)\n",
        "\n",
        "print(f\"Destination Table: {dataset.dataset_id}.{table_name}\")\n",
        "\n",
        "job_config = bigquery.QueryJobConfig()\n",
        "job_config.destination = destination_table\n",
        "job_config.write_disposition = bigquery.WriteDisposition.WRITE_TRUNCATE\n",
        "\n",
        "try:\n",
        "  # Start the query, passing in the extra configuration.\n",
        "  query_job = client.query(\n",
        "      sql,\n",
        "      job_config=job_config)  # API request - starts the query\n",
        "\n",
        "  query_job.result()  # Waits for the query to finish\n",
        "  assert query_job.state == \"DONE\"\n",
        "\n",
        "  print(\"Job finished\")\n",
        "\n",
        "  print(f'Query results loaded to table {dataset_id}.{table_name}')\n",
        "except Exception as e:\n",
        "  print(e)\n",
        "  raise ValueError(f\"Fail to load: {dataset_id}.{table_name}\")"
      ],
      "execution_count": null,
      "outputs": [
        {
          "output_type": "stream",
          "text": [
            "Destination Table: aging.debtor_aging_by_bucket\n",
            "Job finished\n",
            "Query results loaded to table aging.debtor_aging_by_bucket\n"
          ],
          "name": "stdout"
        }
      ]
    },
    {
      "cell_type": "code",
      "metadata": {
        "colab_type": "code",
        "id": "tkPuOctWhztV",
        "colab": {
          "base_uri": "https://localhost:8080/",
          "height": 230
        },
        "outputId": "866edebd-f336-482f-b8d8-dcb2a219aded"
      },
      "source": [
        "if IS_DEBUG:\n",
        "  sql = (\n",
        "      f\"\"\"\n",
        "        SELECT * FROM `{dataset_id}.{table_name}` \n",
        "        LIMIT 5\n",
        "      \"\"\")\n",
        "  print(sql)\n",
        "  df = client.query(sql).to_dataframe()\n",
        "  print(df)"
      ],
      "execution_count": null,
      "outputs": [
        {
          "output_type": "stream",
          "text": [
            "\n",
            "        SELECT * FROM `aging.debtor_aging_by_bucket` \n",
            "        LIMIT 5\n",
            "      \n",
            "  platform  aging_date industry  ... prev_amount net_amount net_prev_amount\n",
            "0     NSTP  2015-04-30   AGENCY  ...           0          0               0\n",
            "1     NSTP  2015-04-30   AGENCY  ...           0          0               0\n",
            "2     NSTP  2015-04-30   AGENCY  ...      836.13          0          836.13\n",
            "3     NSTP  2015-04-30   AGENCY  ...           0     836.13               0\n",
            "4     NSTP  2015-04-30   AGENCY  ...           0          0               0\n",
            "\n",
            "[5 rows x 14 columns]\n"
          ],
          "name": "stdout"
        }
      ]
    },
    {
      "cell_type": "markdown",
      "metadata": {
        "colab_type": "text",
        "id": "8ZMuZsUR1X3V"
      },
      "source": [
        "### debtor_aging_by_bucket_quarter"
      ]
    },
    {
      "cell_type": "code",
      "metadata": {
        "colab_type": "code",
        "id": "rigwUOF41X3d",
        "colab": {
          "base_uri": "https://localhost:8080/",
          "height": 34
        },
        "outputId": "bf6ae5b6-37be-49de-9e0c-4e1b035d73dd"
      },
      "source": [
        "# destination table\n",
        "table_name = \"debtor_aging_by_bucket_quarter\"\n",
        "print(f\"Destination Table Name: {dataset_id}.{table_name}\")"
      ],
      "execution_count": null,
      "outputs": [
        {
          "output_type": "stream",
          "text": [
            "Destination Table Name: aging.debtor_aging_by_bucket_quarter\n"
          ],
          "name": "stdout"
        }
      ]
    },
    {
      "cell_type": "code",
      "metadata": {
        "colab_type": "code",
        "id": "gvRFvru91X3w",
        "colab": {
          "base_uri": "https://localhost:8080/",
          "height": 1000
        },
        "outputId": "3fa530ba-ad98-4e99-be14-12ce2f0edcb4"
      },
      "source": [
        "sql = f\"\"\"\n",
        "      \n",
        "      WITH\n",
        "      t1 AS (\n",
        "      SELECT\n",
        "      platform,\n",
        "      aging_date,\n",
        "      industry,\n",
        "      territory,\n",
        "      `grouping`,\n",
        "      collector,    \n",
        "      customer_no,\n",
        "      customer_name,\n",
        "      [\n",
        "        STRUCT('b0' AS bucket_id, '  1- 30 days' AS bucket, b0 AS amount, p_b0 AS prev_amount),\n",
        "        STRUCT('b1' AS bucket_id, ' 31- 60 days' AS bucket, b1 AS amount, p_b1 AS prev_amount),\n",
        "        STRUCT('b2' AS bucket_id, ' 61- 90 days' AS bucket, b2 AS amount, p_b2 AS prev_amount),\n",
        "        STRUCT('b3' AS bucket_id, ' 91-120 days' AS bucket, b3 AS amount, p_b3 AS prev_amount),\n",
        "        STRUCT('b4' AS bucket_id, '121-150 days' AS bucket, b4 AS amount, p_b4 AS prev_amount),\n",
        "        STRUCT('b5' AS bucket_id, '151-180 days' AS bucket, b5 AS amount, p_b5 AS prev_amount),\n",
        "        STRUCT('b6' AS bucket_id, '  > 180 days' AS bucket, b6 AS amount, p_b6 AS prev_amount)\n",
        "      ] AS metrics_data\n",
        "      FROM\n",
        "      `groupfinancial.aging.debtor_aging_by_quarter` \n",
        "      ),\n",
        "      t2 AS (\n",
        "      SELECT\n",
        "      platform,\n",
        "      aging_date,\n",
        "      industry,\n",
        "      territory,\n",
        "      `grouping`,\n",
        "      collector,    \n",
        "      customer_no,\n",
        "      customer_name,\n",
        "      metrics_data\n",
        "      FROM\n",
        "      t1\n",
        "      CROSS JOIN UNNEST(t1.metrics_data) AS metrics_data)\n",
        "\n",
        "      SELECT \n",
        "      platform,\n",
        "      aging_date,\n",
        "      industry,\n",
        "      territory,\n",
        "      `grouping`,\n",
        "      collector,    \n",
        "      customer_no,\n",
        "      customer_name,\n",
        "      metrics_data.bucket_id AS bucket_id,\n",
        "      metrics_data.bucket AS bucket,\n",
        "      CAST(metrics_data.amount AS NUMERIC) AS amount,\n",
        "      CAST(metrics_data.prev_amount AS NUMERIC) AS prev_amount,\n",
        "      CASE WHEN SIGN(metrics_data.amount) < 0\n",
        "        THEN 0\n",
        "        ELSE metrics_data.amount\n",
        "      END AS net_amount,\n",
        "      CASE WHEN SIGN(metrics_data.prev_amount) < 0\n",
        "        THEN 0\n",
        "        ELSE metrics_data.prev_amount\n",
        "      END AS net_prev_amount\n",
        "      FROM t2\n",
        "      ORDER BY customer_no, aging_date DESC, bucket_id;\n",
        "    \n",
        "    \"\"\"\n",
        "print(sql)"
      ],
      "execution_count": null,
      "outputs": [
        {
          "output_type": "stream",
          "text": [
            "\n",
            "      \n",
            "      WITH\n",
            "      t1 AS (\n",
            "      SELECT\n",
            "      platform,\n",
            "      aging_date,\n",
            "      industry,\n",
            "      territory,\n",
            "      `grouping`,\n",
            "      collector,    \n",
            "      customer_no,\n",
            "      customer_name,\n",
            "      [\n",
            "        STRUCT('b0' AS bucket_id, '  1- 30 days' AS bucket, b0 AS amount, p_b0 AS prev_amount),\n",
            "        STRUCT('b1' AS bucket_id, ' 31- 60 days' AS bucket, b1 AS amount, p_b1 AS prev_amount),\n",
            "        STRUCT('b2' AS bucket_id, ' 61- 90 days' AS bucket, b2 AS amount, p_b2 AS prev_amount),\n",
            "        STRUCT('b3' AS bucket_id, ' 91-120 days' AS bucket, b3 AS amount, p_b3 AS prev_amount),\n",
            "        STRUCT('b4' AS bucket_id, '121-150 days' AS bucket, b4 AS amount, p_b4 AS prev_amount),\n",
            "        STRUCT('b5' AS bucket_id, '151-180 days' AS bucket, b5 AS amount, p_b5 AS prev_amount),\n",
            "        STRUCT('b6' AS bucket_id, '  > 180 days' AS bucket, b6 AS amount, p_b6 AS prev_amount)\n",
            "      ] AS metrics_data\n",
            "      FROM\n",
            "      `groupfinancial.aging.debtor_aging_by_quarter` \n",
            "      ),\n",
            "      t2 AS (\n",
            "      SELECT\n",
            "      platform,\n",
            "      aging_date,\n",
            "      industry,\n",
            "      territory,\n",
            "      `grouping`,\n",
            "      collector,    \n",
            "      customer_no,\n",
            "      customer_name,\n",
            "      metrics_data\n",
            "      FROM\n",
            "      t1\n",
            "      CROSS JOIN UNNEST(t1.metrics_data) AS metrics_data)\n",
            "\n",
            "      SELECT \n",
            "      platform,\n",
            "      aging_date,\n",
            "      industry,\n",
            "      territory,\n",
            "      `grouping`,\n",
            "      collector,    \n",
            "      customer_no,\n",
            "      customer_name,\n",
            "      metrics_data.bucket_id AS bucket_id,\n",
            "      metrics_data.bucket AS bucket,\n",
            "      CAST(metrics_data.amount AS NUMERIC) AS amount,\n",
            "      CAST(metrics_data.prev_amount AS NUMERIC) AS prev_amount,\n",
            "      CASE WHEN SIGN(metrics_data.amount) < 0\n",
            "        THEN 0\n",
            "        ELSE metrics_data.amount\n",
            "      END AS net_amount,\n",
            "      CASE WHEN SIGN(metrics_data.prev_amount) < 0\n",
            "        THEN 0\n",
            "        ELSE metrics_data.prev_amount\n",
            "      END AS net_prev_amount\n",
            "      FROM t2\n",
            "      ORDER BY customer_no, aging_date DESC, bucket_id;\n",
            "    \n",
            "    \n"
          ],
          "name": "stdout"
        }
      ]
    },
    {
      "cell_type": "code",
      "metadata": {
        "colab_type": "code",
        "id": "27gbLkQU1X38",
        "colab": {
          "base_uri": "https://localhost:8080/",
          "height": 70
        },
        "outputId": "62a05983-bcc5-4d7d-9acd-95da7071f762"
      },
      "source": [
        "# destination Table\n",
        "destination_table = dataset.table(table_name)\n",
        "\n",
        "print(f\"Destination Table: {dataset.dataset_id}.{table_name}\")\n",
        "\n",
        "job_config = bigquery.QueryJobConfig()\n",
        "job_config.destination = destination_table\n",
        "job_config.write_disposition = bigquery.WriteDisposition.WRITE_TRUNCATE\n",
        "\n",
        "try:\n",
        "  # Start the query, passing in the extra configuration.\n",
        "  query_job = client.query(\n",
        "      sql,\n",
        "      job_config=job_config)  # API request - starts the query\n",
        "\n",
        "  query_job.result()  # Waits for the query to finish\n",
        "  assert query_job.state == \"DONE\"\n",
        "\n",
        "  print(\"Job finished\")\n",
        "\n",
        "  print(f'Query results loaded to table {dataset_id}.{table_name}')\n",
        "except Exception as e:\n",
        "  print(e)\n",
        "  raise ValueError(f\"Fail to load: {dataset_id}.{table_name}\")"
      ],
      "execution_count": null,
      "outputs": [
        {
          "output_type": "stream",
          "text": [
            "Destination Table: aging.debtor_aging_by_bucket_quarter\n",
            "Job finished\n",
            "Query results loaded to table aging.debtor_aging_by_bucket_quarter\n"
          ],
          "name": "stdout"
        }
      ]
    },
    {
      "cell_type": "code",
      "metadata": {
        "colab_type": "code",
        "id": "Yb5sfvaj1X4O",
        "colab": {
          "base_uri": "https://localhost:8080/",
          "height": 230
        },
        "outputId": "e8e9e584-d729-4244-d995-01d54c099e7f"
      },
      "source": [
        "if IS_DEBUG:\n",
        "  sql = (\n",
        "      f\"\"\"\n",
        "        SELECT * FROM `{dataset_id}.{table_name}` \n",
        "        LIMIT 5\n",
        "      \"\"\")\n",
        "  print(sql)\n",
        "  df = client.query(sql).to_dataframe()\n",
        "  print(df)"
      ],
      "execution_count": null,
      "outputs": [
        {
          "output_type": "stream",
          "text": [
            "\n",
            "        SELECT * FROM `aging.debtor_aging_by_bucket_quarter` \n",
            "        LIMIT 5\n",
            "      \n",
            "  platform  aging_date industry  ... prev_amount net_amount net_prev_amount\n",
            "0     NSTP  2015-04-30   AGENCY  ...           0          0               0\n",
            "1     NSTP  2015-04-30   AGENCY  ...           0          0               0\n",
            "2     NSTP  2015-04-30   AGENCY  ...      836.13          0          836.13\n",
            "3     NSTP  2015-04-30   AGENCY  ...           0     836.13               0\n",
            "4     NSTP  2015-04-30   AGENCY  ...           0          0               0\n",
            "\n",
            "[5 rows x 14 columns]\n"
          ],
          "name": "stdout"
        }
      ]
    },
    {
      "cell_type": "markdown",
      "metadata": {
        "id": "at0vvimhDrgn",
        "colab_type": "text"
      },
      "source": [
        "## Report (Authorized View) Zone\n",
        "\n",
        "\n"
      ]
    },
    {
      "cell_type": "markdown",
      "metadata": {
        "id": "lHZ2Q00UD_df",
        "colab_type": "text"
      },
      "source": [
        "### Initialization"
      ]
    },
    {
      "cell_type": "code",
      "metadata": {
        "id": "IlDLJUfND5hx",
        "colab_type": "code",
        "colab": {
          "base_uri": "https://localhost:8080/",
          "height": 34
        },
        "outputId": "6ce8c722-5c69-4c57-82ba-a26b9a8536c1"
      },
      "source": [
        "dataset_id = \"aging\"\n",
        "\n",
        "dataset = client.dataset(dataset_id, project_id)\n",
        "\n",
        "print(f\"Report Dataset: {dataset_id}\")"
      ],
      "execution_count": null,
      "outputs": [
        {
          "output_type": "stream",
          "text": [
            "Report Dataset: aging\n"
          ],
          "name": "stdout"
        }
      ]
    },
    {
      "cell_type": "markdown",
      "metadata": {
        "id": "Hk8JFAn5iWo2",
        "colab_type": "text"
      },
      "source": [
        "### vw_debtor_aging"
      ]
    },
    {
      "cell_type": "code",
      "metadata": {
        "id": "bWTJaIWxD5r8",
        "colab_type": "code",
        "colab": {
          "base_uri": "https://localhost:8080/",
          "height": 52
        },
        "outputId": "b0ed2588-22e1-4afb-c2d2-b3abe666526e"
      },
      "source": [
        "# source table\n",
        "source_dataset_id = \"aging\"\n",
        "source_table = \"debtor_aging\"\n",
        "\n",
        "# destination view\n",
        "view_name = f\"vw_{source_table}\"\n",
        "\n",
        "print(f\"Source Table: {source_dataset_id}.{source_table}\")\n",
        "print(f\"View: {dataset_id}.{view_name}\")"
      ],
      "execution_count": null,
      "outputs": [
        {
          "output_type": "stream",
          "text": [
            "Source Table: aging.debtor_aging\n",
            "View: aging.vw_debtor_aging\n"
          ],
          "name": "stdout"
        }
      ]
    },
    {
      "cell_type": "code",
      "metadata": {
        "id": "XVUGNWKwjFYq",
        "colab_type": "code",
        "colab": {
          "base_uri": "https://localhost:8080/",
          "height": 247
        },
        "outputId": "70d054c6-c150-4f27-f42a-e5c64e370cd9"
      },
      "source": [
        "sql = f\"\"\"\n",
        "         SELECT t.* \n",
        "         FROM `{project_id}.{source_dataset_id}.{source_table}` t\n",
        "         JOIN `groupfinancial.common.groups_users` g ON SESSION_USER() = g.user\n",
        "         WHERE t.platform IN (\n",
        "           CASE\n",
        "              WHEN g.group='nstp_users' THEN 'NSTP'\n",
        "              WHEN g.group='bto_users' THEN 'BTO'\n",
        "              WHEN g.group='tvn_users' THEN 'TVN'\n",
        "              WHEN g.group='ripple_users' THEN 'RIPPLE'\n",
        "            END\n",
        "         )\n",
        "    \"\"\"\n",
        "print(sql)"
      ],
      "execution_count": null,
      "outputs": [
        {
          "output_type": "stream",
          "text": [
            "\n",
            "         SELECT * \n",
            "         FROM `groupfinancial.aging.debtor_aging` t\n",
            "         JOIN `groupfinancial.common.groups_users` g ON SESSION_USER() = g.user\n",
            "         WHERE t.platform IN (\n",
            "           CASE\n",
            "              WHEN g.group='nstp_users' THEN 'NSTP'\n",
            "              WHEN g.group='bto_users' THEN 'BTO'\n",
            "              WHEN g.group='tvn_users' THEN 'TVN'\n",
            "              WHEN g.group='ripple_users' THEN 'RIPPLE'\n",
            "            END\n",
            "         )\n",
            "    \n"
          ],
          "name": "stdout"
        }
      ]
    },
    {
      "cell_type": "code",
      "metadata": {
        "id": "3CNfXRJCFEbj",
        "colab_type": "code",
        "colab": {
          "base_uri": "https://localhost:8080/",
          "height": 33
        },
        "outputId": "35ffbf1d-f737-417d-d35c-2b91a59041aa"
      },
      "source": [
        "view = dataset.table(view_name)\n",
        "table = bigquery.Table(view)\n",
        "table.view_query = sql\n",
        "table.view_use_legacy_sql = False\n",
        "\n",
        "try:\n",
        "  # delete_table with not_found_ok not working in Airflow bigquery library. \n",
        "  # client.delete_table(table, not_found_ok=True)\n",
        "  try: client.delete_table(table) \n",
        "  except: pass\n",
        "\n",
        "  client.create_table(table)\n",
        "\n",
        "  print(f'Authorized view created: {dataset_id}.{view_name}')\n",
        "except:\n",
        "  raise ValueError(f\"Fail to create: {dataset_id}.{view_name}\")"
      ],
      "execution_count": null,
      "outputs": [
        {
          "output_type": "stream",
          "text": [
            "Authorized view created: aging.vw_debtor_aging\n"
          ],
          "name": "stdout"
        }
      ]
    },
    {
      "cell_type": "code",
      "metadata": {
        "id": "b7CvY4ho6-kP",
        "colab_type": "code",
        "colab": {
          "base_uri": "https://localhost:8080/",
          "height": 212
        },
        "outputId": "7a2923d0-dbc0-4a30-ade7-b082a270bd46"
      },
      "source": [
        "if IS_DEBUG:\n",
        "  sql = (\n",
        "      f\"\"\"\n",
        "        SELECT * FROM `{dataset_id}.{view_name}` \n",
        "        LIMIT 5\n",
        "      \"\"\")\n",
        "  print(sql)\n",
        "  df = client.query(sql).to_dataframe()\n",
        "  print(df)"
      ],
      "execution_count": null,
      "outputs": [
        {
          "output_type": "stream",
          "text": [
            "\n",
            "        SELECT * FROM `aging.vw_debtor_aging` \n",
            "        LIMIT 5\n",
            "      \n",
            "  platform  aging_date  aging_year  ... p_b6 cash_deposit bank_guarantee\n",
            "0     NSTP  2019-07-31        2019  ...    0            0         100000\n",
            "1     NSTP  2019-07-31        2019  ...    0            0          50000\n",
            "2     NSTP  2019-07-31        2019  ...    0            0          50000\n",
            "3     NSTP  2019-07-31        2019  ...    0            0          50000\n",
            "4     NSTP  2019-07-31        2019  ...    0            0          50000\n",
            "\n",
            "[5 rows x 29 columns]\n"
          ],
          "name": "stdout"
        }
      ]
    },
    {
      "cell_type": "markdown",
      "metadata": {
        "colab_type": "text",
        "id": "hf6QMymTxlsu"
      },
      "source": [
        "### vw_debtor_aging_by_quarter"
      ]
    },
    {
      "cell_type": "code",
      "metadata": {
        "colab_type": "code",
        "id": "jIAI4jPaxls5",
        "colab": {
          "base_uri": "https://localhost:8080/",
          "height": 50
        },
        "outputId": "18de2adf-7a41-4f47-c425-ed86ba4194e7"
      },
      "source": [
        "# source table\n",
        "source_dataset_id = \"aging\"\n",
        "source_table = \"debtor_aging_by_quarter\"\n",
        "\n",
        "# destination view\n",
        "view_name = f\"vw_{source_table}\"\n",
        "\n",
        "print(f\"Source Table: {source_dataset_id}.{source_table}\")\n",
        "print(f\"View: {dataset_id}.{view_name}\")"
      ],
      "execution_count": null,
      "outputs": [
        {
          "output_type": "stream",
          "text": [
            "Source Table: aging.debtor_aging_by_quarter\n",
            "View: aging.vw_debtor_aging_by_quarter\n"
          ],
          "name": "stdout"
        }
      ]
    },
    {
      "cell_type": "code",
      "metadata": {
        "colab_type": "code",
        "id": "AgRb7G2jxltf",
        "colab": {
          "base_uri": "https://localhost:8080/",
          "height": 82
        },
        "outputId": "601bdb07-c4da-40f1-eec9-99f152e0ac03"
      },
      "source": [
        "sql = f\"\"\"\n",
        "      SELECT t.*\n",
        "      FROM `{project_id}.{source_dataset_id}.{source_table}` t\n",
        "         JOIN `groupfinancial.common.groups_users` g ON SESSION_USER() = g.user\n",
        "         WHERE t.platform IN (\n",
        "           CASE\n",
        "              WHEN g.group='nstp_users' THEN 'NSTP'\n",
        "              WHEN g.group='bto_users' THEN 'BTO'\n",
        "              WHEN g.group='tvn_users' THEN 'TVN'\n",
        "              WHEN g.group='ripple_users' THEN 'RIPPLE'\n",
        "            END\n",
        "         ) \n",
        "    \"\"\"\n",
        "print(sql)"
      ],
      "execution_count": null,
      "outputs": [
        {
          "output_type": "stream",
          "text": [
            "\n",
            "      SELECT *\n",
            "      FROM `groupfinancial.aging.debtor_aging_by_quarter` \n",
            "    \n"
          ],
          "name": "stdout"
        }
      ]
    },
    {
      "cell_type": "code",
      "metadata": {
        "colab_type": "code",
        "id": "qmun8y_cxlt1",
        "colab": {
          "base_uri": "https://localhost:8080/",
          "height": 33
        },
        "outputId": "ab38f793-b028-40a8-dec0-2a6fed6e8180"
      },
      "source": [
        "view = dataset.table(view_name)\n",
        "table = bigquery.Table(view)\n",
        "table.view_query = sql\n",
        "table.view_use_legacy_sql = False\n",
        "\n",
        "try:\n",
        "  # delete_table with not_found_ok not working in Airflow bigquery library. \n",
        "  # client.delete_table(table, not_found_ok=True)\n",
        "  try: client.delete_table(table) \n",
        "  except: pass\n",
        "\n",
        "  client.create_table(table)\n",
        "\n",
        "  print(f'Authorized view created: {dataset_id}.{view_name}')\n",
        "except:\n",
        "  raise ValueError(f\"Fail to create: {dataset_id}.{view_name}\")"
      ],
      "execution_count": null,
      "outputs": [
        {
          "output_type": "stream",
          "text": [
            "Authorized view created: aging.vw_debtor_aging_by_quarter\n"
          ],
          "name": "stdout"
        }
      ]
    },
    {
      "cell_type": "code",
      "metadata": {
        "colab_type": "code",
        "id": "YuVwtUxsxluO",
        "colab": {
          "base_uri": "https://localhost:8080/",
          "height": 212
        },
        "outputId": "7684e41f-7786-4704-fc60-eb7cd9d232f1"
      },
      "source": [
        "if IS_DEBUG:\n",
        "  sql = (\n",
        "      f\"\"\"\n",
        "        SELECT * FROM `{dataset_id}.{view_name}` \n",
        "        LIMIT 5\n",
        "      \"\"\")\n",
        "  print(sql)\n",
        "  df = client.query(sql).to_dataframe()\n",
        "  print(df)"
      ],
      "execution_count": null,
      "outputs": [
        {
          "output_type": "stream",
          "text": [
            "\n",
            "        SELECT * FROM `aging.vw_debtor_aging_by_quarter` \n",
            "        LIMIT 5\n",
            "      \n",
            "  platform  aging_date  aging_year aging_month  ... p_b3 p_b4 p_b5 p_b6\n",
            "0     NSTP  2019-07-31        2019     2019-07  ...    0    0    0    0\n",
            "1     NSTP  2019-07-31        2019     2019-07  ...  0.6    0    0    0\n",
            "2     NSTP  2019-07-31        2019     2019-07  ...    0    0    0    0\n",
            "3     NSTP  2019-07-31        2019     2019-07  ...    0    0    0    0\n",
            "4     NSTP  2019-07-31        2019     2019-07  ...    0    0    0    0\n",
            "\n",
            "[5 rows x 27 columns]\n"
          ],
          "name": "stdout"
        }
      ]
    },
    {
      "cell_type": "markdown",
      "metadata": {
        "colab_type": "text",
        "id": "bSZ4Zi5HaUlb"
      },
      "source": [
        "### vw_debtor_aging_history"
      ]
    },
    {
      "cell_type": "code",
      "metadata": {
        "colab_type": "code",
        "id": "CjgM8jaxaUlq",
        "colab": {
          "base_uri": "https://localhost:8080/",
          "height": 50
        },
        "outputId": "c983dcff-667d-4ce7-c434-e02d5fcdf532"
      },
      "source": [
        "# source table\n",
        "source_dataset_id = \"aging\"\n",
        "source_table = \"debtor_aging\"\n",
        "\n",
        "# destination view\n",
        "view_name = f\"vw_{source_table}_history\"\n",
        "\n",
        "print(f\"Source Table: {source_dataset_id}.{source_table}\")\n",
        "print(f\"View: {dataset_id}.{view_name}\")"
      ],
      "execution_count": null,
      "outputs": [
        {
          "output_type": "stream",
          "text": [
            "Source Table: aging.debtor_aging\n",
            "View: aging.vw_debtor_aging_history\n"
          ],
          "name": "stdout"
        }
      ]
    },
    {
      "cell_type": "code",
      "metadata": {
        "colab_type": "code",
        "id": "61bFKpCYaUl7",
        "colab": {
          "base_uri": "https://localhost:8080/",
          "height": 553
        },
        "outputId": "f8357fde-15f5-44b8-81c7-12e2facc67b9"
      },
      "source": [
        "sql = f\"\"\"\n",
        "      SELECT\n",
        "        platform,\n",
        "        aging_date AS aging_date_hist,\n",
        "        aging_year,\n",
        "        aging_month,\n",
        "        aging_quarter,\n",
        "        industry,\n",
        "        territory,\n",
        "        `grouping`,\n",
        "        collector,    \n",
        "        customer_no,\n",
        "        customer_name,\n",
        "        bal_amount,\n",
        "        b0,\n",
        "        b1,\n",
        "        b2,\n",
        "        b3,\n",
        "        b4,\n",
        "        b5,\n",
        "        b6,\n",
        "        p_bal_amount,\n",
        "        p_b0,\n",
        "        p_b1,\n",
        "        p_b2,\n",
        "        p_b3,\n",
        "        p_b4,\n",
        "        p_b5,\n",
        "        p_b6,\n",
        "        cash_deposit,\n",
        "        bank_guarantee\n",
        "      FROM `{project_id}.{source_dataset_id}.{source_table}` t\n",
        "         JOIN `groupfinancial.common.groups_users` g ON SESSION_USER() = g.user\n",
        "         WHERE t.platform IN (\n",
        "           CASE\n",
        "              WHEN g.group='nstp_users' THEN 'NSTP'\n",
        "              WHEN g.group='bto_users' THEN 'BTO'\n",
        "              WHEN g.group='tvn_users' THEN 'TVN'\n",
        "              WHEN g.group='ripple_users' THEN 'RIPPLE'\n",
        "            END\n",
        "         ) \n",
        "    \"\"\"\n",
        "print(sql)"
      ],
      "execution_count": null,
      "outputs": [
        {
          "output_type": "stream",
          "text": [
            "\n",
            "      SELECT\n",
            "        platform,\n",
            "        aging_date AS aging_date_hist,\n",
            "        aging_year,\n",
            "        aging_month,\n",
            "        aging_quarter,\n",
            "        industry,\n",
            "        territory,\n",
            "        `grouping`,\n",
            "        collector,    \n",
            "        customer_no,\n",
            "        customer_name,\n",
            "        bal_amount,\n",
            "        b0,\n",
            "        b1,\n",
            "        b2,\n",
            "        b3,\n",
            "        b4,\n",
            "        b5,\n",
            "        b6,\n",
            "        p_bal_amount,\n",
            "        p_b0,\n",
            "        p_b1,\n",
            "        p_b2,\n",
            "        p_b3,\n",
            "        p_b4,\n",
            "        p_b5,\n",
            "        p_b6,\n",
            "        cash_deposit,\n",
            "        bank_guarantee\n",
            "      FROM `groupfinancial.aging.debtor_aging` \n",
            "    \n"
          ],
          "name": "stdout"
        }
      ]
    },
    {
      "cell_type": "code",
      "metadata": {
        "colab_type": "code",
        "id": "y2WWzrSxaUmF",
        "colab": {
          "base_uri": "https://localhost:8080/",
          "height": 33
        },
        "outputId": "b748fb28-7118-4cef-8cdd-c11864ca37a7"
      },
      "source": [
        "view = dataset.table(view_name)\n",
        "table = bigquery.Table(view)\n",
        "table.view_query = sql\n",
        "table.view_use_legacy_sql = False\n",
        "\n",
        "try:\n",
        "  # delete_table with not_found_ok not working in Airflow bigquery library. \n",
        "  # client.delete_table(table, not_found_ok=True)\n",
        "  try: client.delete_table(table) \n",
        "  except: pass\n",
        "\n",
        "  client.create_table(table)\n",
        "\n",
        "  print(f'Authorized view created: {dataset_id}.{view_name}')\n",
        "except:\n",
        "  raise ValueError(f\"Fail to create: {dataset_id}.{view_name}\")"
      ],
      "execution_count": null,
      "outputs": [
        {
          "output_type": "stream",
          "text": [
            "Authorized view created: aging.vw_debtor_aging_history\n"
          ],
          "name": "stdout"
        }
      ]
    },
    {
      "cell_type": "code",
      "metadata": {
        "colab_type": "code",
        "id": "LLdCZQHLaUmO",
        "colab": {
          "base_uri": "https://localhost:8080/",
          "height": 212
        },
        "outputId": "ede732b9-a17f-40e9-af4d-26da1d4029a8"
      },
      "source": [
        "if IS_DEBUG:\n",
        "  sql = (\n",
        "      f\"\"\"\n",
        "        SELECT * FROM `{dataset_id}.{view_name}` \n",
        "        LIMIT 5\n",
        "      \"\"\")\n",
        "  print(sql)\n",
        "  df = client.query(sql).to_dataframe()\n",
        "  print(df)"
      ],
      "execution_count": null,
      "outputs": [
        {
          "output_type": "stream",
          "text": [
            "\n",
            "        SELECT * FROM `aging.vw_debtor_aging_history` \n",
            "        LIMIT 5\n",
            "      \n",
            "  platform aging_date_hist  aging_year  ... p_b6 cash_deposit bank_guarantee\n",
            "0     NSTP      2019-07-31        2019  ...    0            0         100000\n",
            "1     NSTP      2019-07-31        2019  ...    0            0          50000\n",
            "2     NSTP      2019-07-31        2019  ...    0            0          50000\n",
            "3     NSTP      2019-07-31        2019  ...    0            0          50000\n",
            "4     NSTP      2019-07-31        2019  ...    0            0          50000\n",
            "\n",
            "[5 rows x 29 columns]\n"
          ],
          "name": "stdout"
        }
      ]
    },
    {
      "cell_type": "markdown",
      "metadata": {
        "colab_type": "text",
        "id": "ocwAt418jOgn"
      },
      "source": [
        "### vw_debtor_aging_by_bucket"
      ]
    },
    {
      "cell_type": "code",
      "metadata": {
        "colab_type": "code",
        "id": "pioc7PXujOgw",
        "colab": {
          "base_uri": "https://localhost:8080/",
          "height": 50
        },
        "outputId": "88fce64f-2c43-41f9-c33d-b6c4a852892b"
      },
      "source": [
        "# source table\n",
        "source_dataset_id = \"aging\"\n",
        "source_table = \"debtor_aging_by_bucket\"\n",
        "\n",
        "# destination view\n",
        "view_name = f\"vw_{source_table}\"\n",
        "\n",
        "print(f\"Source Table: {source_dataset_id}.{source_table}\")\n",
        "print(f\"View: {dataset_id}.{view_name}\")"
      ],
      "execution_count": null,
      "outputs": [
        {
          "output_type": "stream",
          "text": [
            "Source Table: aging.debtor_aging_by_bucket\n",
            "View: aging.vw_debtor_aging_by_bucket\n"
          ],
          "name": "stdout"
        }
      ]
    },
    {
      "cell_type": "code",
      "metadata": {
        "colab_type": "code",
        "id": "rjI2776KjOhD",
        "colab": {
          "base_uri": "https://localhost:8080/",
          "height": 82
        },
        "outputId": "3007a77c-02d1-4a43-be75-a56fdcffe840"
      },
      "source": [
        "sql = f\"\"\"\n",
        "         SELECT t.* \n",
        "         FROM `{project_id}.{source_dataset_id}.{source_table}` t\n",
        "         JOIN `groupfinancial.common.groups_users` g ON SESSION_USER() = g.user\n",
        "         WHERE t.platform IN (\n",
        "           CASE\n",
        "              WHEN g.group='nstp_users' THEN 'NSTP'\n",
        "              WHEN g.group='bto_users' THEN 'BTO'\n",
        "              WHEN g.group='tvn_users' THEN 'TVN'\n",
        "              WHEN g.group='ripple_users' THEN 'RIPPLE'\n",
        "            END\n",
        "         ) \n",
        "    \"\"\"\n",
        "print(sql)"
      ],
      "execution_count": null,
      "outputs": [
        {
          "output_type": "stream",
          "text": [
            "\n",
            "         SELECT * \n",
            "         FROM `groupfinancial.aging.debtor_aging_by_bucket` \n",
            "    \n"
          ],
          "name": "stdout"
        }
      ]
    },
    {
      "cell_type": "code",
      "metadata": {
        "colab_type": "code",
        "id": "p2fTwseqjOhm",
        "colab": {
          "base_uri": "https://localhost:8080/",
          "height": 33
        },
        "outputId": "fec3a766-9849-456d-e134-f276bb08bfe8"
      },
      "source": [
        "view = dataset.table(view_name)\n",
        "table = bigquery.Table(view)\n",
        "table.view_query = sql\n",
        "table.view_use_legacy_sql = False\n",
        "\n",
        "try:\n",
        "  # delete_table with not_found_ok not working in Airflow bigquery library. \n",
        "  # client.delete_table(table, not_found_ok=True)\n",
        "  try: client.delete_table(table) \n",
        "  except: pass\n",
        "\n",
        "  client.create_table(table)\n",
        "\n",
        "  print(f'Authorized view created: {dataset_id}.{view_name}')\n",
        "except:\n",
        "  raise ValueError(f\"Fail to create: {dataset_id}.{view_name}\")"
      ],
      "execution_count": null,
      "outputs": [
        {
          "output_type": "stream",
          "text": [
            "Authorized view created: aging.vw_debtor_aging_by_bucket\n"
          ],
          "name": "stdout"
        }
      ]
    },
    {
      "cell_type": "code",
      "metadata": {
        "colab_type": "code",
        "id": "yAndl1DojOiM",
        "colab": {
          "base_uri": "https://localhost:8080/",
          "height": 212
        },
        "outputId": "9a390371-97c8-45be-c08f-99aec610547b"
      },
      "source": [
        "if IS_DEBUG:\n",
        "  sql = (\n",
        "      f\"\"\"\n",
        "        SELECT * FROM `{dataset_id}.{view_name}` \n",
        "        LIMIT 5\n",
        "      \"\"\")\n",
        "  print(sql)\n",
        "  df = client.query(sql).to_dataframe()\n",
        "  print(df)"
      ],
      "execution_count": null,
      "outputs": [
        {
          "output_type": "stream",
          "text": [
            "\n",
            "        SELECT * FROM `aging.vw_debtor_aging_by_bucket` \n",
            "        LIMIT 5\n",
            "      \n",
            "  platform  aging_date industry  ... prev_amount net_amount net_prev_amount\n",
            "0     NSTP  2015-04-30   AGENCY  ...           0          0               0\n",
            "1     NSTP  2015-04-30   AGENCY  ...           0          0               0\n",
            "2     NSTP  2015-04-30   AGENCY  ...      836.13          0          836.13\n",
            "3     NSTP  2015-04-30   AGENCY  ...           0     836.13               0\n",
            "4     NSTP  2015-04-30   AGENCY  ...           0          0               0\n",
            "\n",
            "[5 rows x 14 columns]\n"
          ],
          "name": "stdout"
        }
      ]
    },
    {
      "cell_type": "markdown",
      "metadata": {
        "colab_type": "text",
        "id": "xVsb_5Ql2gU2"
      },
      "source": [
        "### vw_debtor_aging_by_bucket_quarter"
      ]
    },
    {
      "cell_type": "code",
      "metadata": {
        "colab_type": "code",
        "id": "8nLcHyD-2gU6",
        "colab": {
          "base_uri": "https://localhost:8080/",
          "height": 50
        },
        "outputId": "cd2a3735-7ed5-4fa1-8770-c072ca0e6181"
      },
      "source": [
        "# source table\n",
        "source_dataset_id = \"aging\"\n",
        "source_table = \"debtor_aging_by_bucket_quarter\"\n",
        "\n",
        "# destination view\n",
        "view_name = f\"vw_{source_table}\"\n",
        "\n",
        "print(f\"Source Table: {source_dataset_id}.{source_table}\")\n",
        "print(f\"View: {dataset_id}.{view_name}\")"
      ],
      "execution_count": null,
      "outputs": [
        {
          "output_type": "stream",
          "text": [
            "Source Table: aging.debtor_aging_by_bucket_quarter\n",
            "View: aging.vw_debtor_aging_by_bucket_quarter\n"
          ],
          "name": "stdout"
        }
      ]
    },
    {
      "cell_type": "code",
      "metadata": {
        "colab_type": "code",
        "id": "3xJtRDHm2gVG",
        "colab": {
          "base_uri": "https://localhost:8080/",
          "height": 82
        },
        "outputId": "e97f36d9-3e71-42d5-a118-c9b8770ebee8"
      },
      "source": [
        "sql = f\"\"\"\n",
        "         SELECT t.* \n",
        "         FROM `{project_id}.{source_dataset_id}.{source_table}` t\n",
        "         JOIN `groupfinancial.common.groups_users` g ON SESSION_USER() = g.user\n",
        "         WHERE t.platform IN (\n",
        "           CASE\n",
        "              WHEN g.group='nstp_users' THEN 'NSTP'\n",
        "              WHEN g.group='bto_users' THEN 'BTO'\n",
        "              WHEN g.group='tvn_users' THEN 'TVN'\n",
        "              WHEN g.group='ripple_users' THEN 'RIPPLE'\n",
        "            END\n",
        "         ) \n",
        "    \"\"\"\n",
        "print(sql)"
      ],
      "execution_count": null,
      "outputs": [
        {
          "output_type": "stream",
          "text": [
            "\n",
            "         SELECT * \n",
            "         FROM `groupfinancial.aging.debtor_aging_by_bucket_quarter` \n",
            "    \n"
          ],
          "name": "stdout"
        }
      ]
    },
    {
      "cell_type": "code",
      "metadata": {
        "colab_type": "code",
        "id": "wjj4Y62A2gVU",
        "colab": {
          "base_uri": "https://localhost:8080/",
          "height": 33
        },
        "outputId": "e5387d0f-4c56-4dbe-edb0-8bea747adc9e"
      },
      "source": [
        "view = dataset.table(view_name)\n",
        "table = bigquery.Table(view)\n",
        "table.view_query = sql\n",
        "table.view_use_legacy_sql = False\n",
        "\n",
        "try:\n",
        "  # delete_table with not_found_ok not working in Airflow bigquery library. \n",
        "  # client.delete_table(table, not_found_ok=True)\n",
        "  try: client.delete_table(table) \n",
        "  except: pass\n",
        "\n",
        "  client.create_table(table)\n",
        "\n",
        "  print(f'Authorized view created: {dataset_id}.{view_name}')\n",
        "except:\n",
        "  raise ValueError(f\"Fail to create: {dataset_id}.{view_name}\")"
      ],
      "execution_count": null,
      "outputs": [
        {
          "output_type": "stream",
          "text": [
            "Authorized view created: aging.vw_debtor_aging_by_bucket_quarter\n"
          ],
          "name": "stdout"
        }
      ]
    },
    {
      "cell_type": "code",
      "metadata": {
        "colab_type": "code",
        "id": "GGBr8cEM2gVc",
        "colab": {
          "base_uri": "https://localhost:8080/",
          "height": 212
        },
        "outputId": "1ddd5d30-449c-4aa0-a507-578f39328c00"
      },
      "source": [
        "if IS_DEBUG:\n",
        "  sql = (\n",
        "      f\"\"\"\n",
        "        SELECT * FROM `{dataset_id}.{view_name}` \n",
        "        LIMIT 5\n",
        "      \"\"\")\n",
        "  print(sql)\n",
        "  df = client.query(sql).to_dataframe()\n",
        "  print(df)"
      ],
      "execution_count": null,
      "outputs": [
        {
          "output_type": "stream",
          "text": [
            "\n",
            "        SELECT * FROM `aging.vw_debtor_aging_by_bucket_quarter` \n",
            "        LIMIT 5\n",
            "      \n",
            "  platform  aging_date industry  ... prev_amount net_amount net_prev_amount\n",
            "0     NSTP  2015-04-30   AGENCY  ...           0          0               0\n",
            "1     NSTP  2015-04-30   AGENCY  ...           0          0               0\n",
            "2     NSTP  2015-04-30   AGENCY  ...      836.13          0          836.13\n",
            "3     NSTP  2015-04-30   AGENCY  ...           0     836.13               0\n",
            "4     NSTP  2015-04-30   AGENCY  ...           0          0               0\n",
            "\n",
            "[5 rows x 14 columns]\n"
          ],
          "name": "stdout"
        }
      ]
    },
    {
      "cell_type": "markdown",
      "metadata": {
        "colab_type": "text",
        "id": "mxXZd9NQp8Xh"
      },
      "source": [
        "### vw_debtor_aging_by_bucket_history"
      ]
    },
    {
      "cell_type": "code",
      "metadata": {
        "colab_type": "code",
        "id": "M24oFc91p8YF",
        "colab": {
          "base_uri": "https://localhost:8080/",
          "height": 50
        },
        "outputId": "f062022c-8463-4929-8a73-86a124fcac77"
      },
      "source": [
        "# source table\n",
        "source_dataset_id = \"aging\"\n",
        "source_table = \"debtor_aging_by_bucket\"\n",
        "\n",
        "# destination view\n",
        "view_name = f\"vw_{source_table}_history\"\n",
        "\n",
        "print(f\"Source Table: {source_dataset_id}.{source_table}\")\n",
        "print(f\"View: {dataset_id}.{view_name}\")"
      ],
      "execution_count": null,
      "outputs": [
        {
          "output_type": "stream",
          "text": [
            "Source Table: aging.debtor_aging_by_bucket\n",
            "View: aging.vw_debtor_aging_by_bucket_history\n"
          ],
          "name": "stdout"
        }
      ]
    },
    {
      "cell_type": "code",
      "metadata": {
        "colab_type": "code",
        "id": "Dov7W3dCp8Yk",
        "colab": {
          "base_uri": "https://localhost:8080/",
          "height": 310
        },
        "outputId": "186095fc-257d-4c49-8ec3-944c36d54d63"
      },
      "source": [
        "sql = f\"\"\"\n",
        "        SELECT \n",
        "          platform,\n",
        "          aging_date AS aging_date_hist,\n",
        "          industry,\n",
        "          territory,\n",
        "          `grouping`,\n",
        "          collector,    \n",
        "          customer_no,\n",
        "          customer_name,\n",
        "          bucket_id,\n",
        "          bucket,\n",
        "          amount,\n",
        "          prev_amount,\n",
        "          net_amount,\n",
        "          net_prev_amount\n",
        "        FROM `{project_id}.{source_dataset_id}.{source_table}` t\n",
        "        JOIN `groupfinancial.common.groups_users` g ON SESSION_USER() = g.user\n",
        "        WHERE t.platform IN (\n",
        "          CASE\n",
        "             WHEN g.group='nstp_users' THEN 'NSTP'\n",
        "             WHEN g.group='bto_users' THEN 'BTO'\n",
        "             WHEN g.group='tvn_users' THEN 'TVN'\n",
        "             WHEN g.group='ripple_users' THEN 'RIPPLE'\n",
        "           END\n",
        "        ) \n",
        "    \"\"\"\n",
        "print(sql)"
      ],
      "execution_count": null,
      "outputs": [
        {
          "output_type": "stream",
          "text": [
            "\n",
            "        SELECT \n",
            "          platform,\n",
            "          aging_date AS aging_date_hist,\n",
            "          industry,\n",
            "          territory,\n",
            "          `grouping`,\n",
            "          collector,    \n",
            "          customer_no,\n",
            "          customer_name,\n",
            "          bucket_id,\n",
            "          bucket,\n",
            "          amount,\n",
            "          prev_amount,\n",
            "          net_amount,\n",
            "          net_prev_amount\n",
            "        FROM `groupfinancial.aging.debtor_aging_by_bucket` \n",
            "    \n"
          ],
          "name": "stdout"
        }
      ]
    },
    {
      "cell_type": "code",
      "metadata": {
        "colab_type": "code",
        "id": "lHjpIycWp8Y_",
        "colab": {
          "base_uri": "https://localhost:8080/",
          "height": 33
        },
        "outputId": "707dfd37-f808-4acb-e5f1-285ed8f32a1e"
      },
      "source": [
        "view = dataset.table(view_name)\n",
        "table = bigquery.Table(view)\n",
        "table.view_query = sql\n",
        "table.view_use_legacy_sql = False\n",
        "\n",
        "try:\n",
        "  # delete_table with not_found_ok not working in Airflow bigquery library. \n",
        "  # client.delete_table(table, not_found_ok=True)\n",
        "  try: client.delete_table(table) \n",
        "  except: pass\n",
        "\n",
        "  client.create_table(table)\n",
        "\n",
        "  print(f'Authorized view created: {dataset_id}.{view_name}')\n",
        "except:\n",
        "  raise ValueError(f\"Fail to create: {dataset_id}.{view_name}\")"
      ],
      "execution_count": null,
      "outputs": [
        {
          "output_type": "stream",
          "text": [
            "Authorized view created: aging.vw_debtor_aging_by_bucket_history\n"
          ],
          "name": "stdout"
        }
      ]
    },
    {
      "cell_type": "code",
      "metadata": {
        "colab_type": "code",
        "id": "5PXE5H4vp8ZO",
        "colab": {
          "base_uri": "https://localhost:8080/",
          "height": 212
        },
        "outputId": "24e22563-3dc6-48d2-cf11-24000f9d2024"
      },
      "source": [
        "if IS_DEBUG:\n",
        "  sql = (\n",
        "      f\"\"\"\n",
        "        SELECT * FROM `{dataset_id}.{view_name}` \n",
        "        LIMIT 5\n",
        "      \"\"\")\n",
        "  print(sql)\n",
        "  df = client.query(sql).to_dataframe()\n",
        "  print(df)"
      ],
      "execution_count": null,
      "outputs": [
        {
          "output_type": "stream",
          "text": [
            "\n",
            "        SELECT * FROM `aging.vw_debtor_aging_by_bucket_history` \n",
            "        LIMIT 5\n",
            "      \n",
            "  platform aging_date_hist industry  ... prev_amount net_amount net_prev_amount\n",
            "0     NSTP      2015-04-30   AGENCY  ...           0          0               0\n",
            "1     NSTP      2015-04-30   AGENCY  ...           0          0               0\n",
            "2     NSTP      2015-04-30   AGENCY  ...      836.13          0          836.13\n",
            "3     NSTP      2015-04-30   AGENCY  ...           0     836.13               0\n",
            "4     NSTP      2015-04-30   AGENCY  ...           0          0               0\n",
            "\n",
            "[5 rows x 14 columns]\n"
          ],
          "name": "stdout"
        }
      ]
    },
    {
      "cell_type": "markdown",
      "metadata": {
        "id": "TsVFb19Vbaqk",
        "colab_type": "text"
      },
      "source": [
        "# DEBUG"
      ]
    },
    {
      "cell_type": "code",
      "metadata": {
        "id": "ZKV6iMP2q2-u",
        "colab_type": "code",
        "colab": {}
      },
      "source": [
        "# DEBUG only\n",
        "\n",
        "debug_dataset_id = \"trusted-oraclefms\"\n",
        "debug_table_name = \"\"\n",
        "df = None\n",
        "\n",
        "if IS_DEBUG:\n",
        "  sql = (\n",
        "      f\"\"\"\n",
        "        SELECT \n",
        "        agesum.AGING_DATE aging_date,\n",
        "        agesum.INDUSTRY industry,\n",
        "        agesum.TERRITORY territory,\n",
        "        agesum.GROUPING `grouping`,\n",
        "        agesum.collector collector,    \n",
        "        agesum.cust_no,\n",
        "        cu.customer_name,    \n",
        "        agesum.amt_due bal_amt,\n",
        "        agesum.b0_amt b0,\n",
        "        agesum.b1_amt b1,\n",
        "        agesum.b2_amt b2,\n",
        "        agesum.b3_amt b3,\n",
        "        agesum.b4_amt b4,\n",
        "        agesum.b5_amt b5,\n",
        "        agesum.b6_amt b6,\n",
        "        agesum.cd_amt cd,\n",
        "        agesum.bg_amt bg\n",
        "      FROM `mp-vertex.trusted_oraclefms.xxar_agehist_summary` agesum\n",
        "        INNER JOIN `mp-vertex.trusted_oraclefms.ar_customers` cu\n",
        "          ON agesum.CUST_NO = cu.customer_number \n",
        "      ORDER BY agesum.AGING_DATE, agesum.INDUSTRY;\n",
        "      \"\"\")\n",
        "  print(sql)\n",
        "  df = client.query(sql).to_dataframe()\n",
        "  #print(df)\n",
        "df"
      ],
      "execution_count": null,
      "outputs": []
    }
  ]
}